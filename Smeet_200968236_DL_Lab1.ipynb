{
  "nbformat": 4,
  "nbformat_minor": 0,
  "metadata": {
    "colab": {
      "provenance": [],
      "collapsed_sections": [
        "_DjrtKUIOe7D",
        "t7nHxZUQO0Gx",
        "Ns9M6t5oO5SK",
        "hL4LkuGwPM6w"
      ]
    },
    "kernelspec": {
      "name": "python3",
      "display_name": "Python 3"
    },
    "language_info": {
      "name": "python"
    },
    "accelerator": "GPU",
    "gpuClass": "standard"
  },
  "cells": [
    {
      "cell_type": "code",
      "execution_count": null,
      "metadata": {
        "id": "3mcWaOgKGFZa"
      },
      "outputs": [],
      "source": [
        "import tensorflow as tf\n",
        "import numpy as np\n",
        "import matplotlib.pyplot as plt\n",
        "import seaborn as sns"
      ]
    },
    {
      "cell_type": "markdown",
      "source": [
        "#Load Fashion MNIST Dataset"
      ],
      "metadata": {
        "id": "wEInFfrNPw4B"
      }
    },
    {
      "cell_type": "code",
      "source": [
        "fashion_mnist = tf.keras.datasets.fashion_mnist\n",
        "(x_train,y_train),(x_test,y_test)=fashion_mnist.load_data()"
      ],
      "metadata": {
        "colab": {
          "base_uri": "https://localhost:8080/"
        },
        "id": "0HuFLTXFGcQT",
        "outputId": "be13c015-5fdd-4024-8877-45969cdd730b"
      },
      "execution_count": null,
      "outputs": [
        {
          "output_type": "stream",
          "name": "stdout",
          "text": [
            "Downloading data from https://storage.googleapis.com/tensorflow/tf-keras-datasets/train-labels-idx1-ubyte.gz\n",
            "32768/29515 [=================================] - 0s 0us/step\n",
            "40960/29515 [=========================================] - 0s 0us/step\n",
            "Downloading data from https://storage.googleapis.com/tensorflow/tf-keras-datasets/train-images-idx3-ubyte.gz\n",
            "26427392/26421880 [==============================] - 0s 0us/step\n",
            "26435584/26421880 [==============================] - 0s 0us/step\n",
            "Downloading data from https://storage.googleapis.com/tensorflow/tf-keras-datasets/t10k-labels-idx1-ubyte.gz\n",
            "16384/5148 [===============================================================================================] - 0s 0us/step\n",
            "Downloading data from https://storage.googleapis.com/tensorflow/tf-keras-datasets/t10k-images-idx3-ubyte.gz\n",
            "4423680/4422102 [==============================] - 0s 0us/step\n",
            "4431872/4422102 [==============================] - 0s 0us/step\n"
          ]
        }
      ]
    },
    {
      "cell_type": "markdown",
      "source": [
        "#Q1] Find No. of classes"
      ],
      "metadata": {
        "id": "mfXN4Ik8OFME"
      }
    },
    {
      "cell_type": "code",
      "source": [
        "np.unique(y_train)\n",
        "#Hence, 10 classes"
      ],
      "metadata": {
        "colab": {
          "base_uri": "https://localhost:8080/"
        },
        "id": "14bnldvjGp4z",
        "outputId": "aa6a491d-90de-415e-b972-a22a35084c3d"
      },
      "execution_count": null,
      "outputs": [
        {
          "output_type": "execute_result",
          "data": {
            "text/plain": [
              "array([0, 1, 2, 3, 4, 5, 6, 7, 8, 9], dtype=uint8)"
            ]
          },
          "metadata": {},
          "execution_count": 6
        }
      ]
    },
    {
      "cell_type": "code",
      "source": [
        "class_names = [\"T-shirt/top\",\"Trouser\",\"Pullover\",\"Dress\",\"Coat\",\"Sandal\",\"Shirt\", \"Sneaker\",\"Bag\",\"Ankle boot\"]"
      ],
      "metadata": {
        "id": "1SMR_IRcIbqj"
      },
      "execution_count": null,
      "outputs": []
    },
    {
      "cell_type": "markdown",
      "source": [
        "#Q2] Find Dimensions of each Image"
      ],
      "metadata": {
        "id": "6aknLlJAOVRa"
      }
    },
    {
      "cell_type": "code",
      "source": [
        "x_train[0].shape"
      ],
      "metadata": {
        "colab": {
          "base_uri": "https://localhost:8080/"
        },
        "id": "1mP5unL5HBTD",
        "outputId": "51579d18-afc6-4df7-b826-16cf351f8564"
      },
      "execution_count": null,
      "outputs": [
        {
          "output_type": "execute_result",
          "data": {
            "text/plain": [
              "(28, 28)"
            ]
          },
          "metadata": {},
          "execution_count": 9
        }
      ]
    },
    {
      "cell_type": "markdown",
      "source": [
        "#Q3] Display one image from each class"
      ],
      "metadata": {
        "id": "_DjrtKUIOe7D"
      }
    },
    {
      "cell_type": "code",
      "source": [
        "y_train[:25]"
      ],
      "metadata": {
        "colab": {
          "base_uri": "https://localhost:8080/"
        },
        "id": "atkdVKHLHNbq",
        "outputId": "0481d8ab-218a-4868-b2a0-c4958572636f"
      },
      "execution_count": null,
      "outputs": [
        {
          "output_type": "execute_result",
          "data": {
            "text/plain": [
              "array([9, 0, 0, 3, 0, 2, 7, 2, 5, 5, 0, 9, 5, 5, 7, 9, 1, 0, 6, 4, 3, 1,\n",
              "       4, 8, 4], dtype=uint8)"
            ]
          },
          "metadata": {},
          "execution_count": 28
        }
      ]
    },
    {
      "cell_type": "code",
      "source": [
        "plt.imshow(x_train[1], cmap=\"gray\")\n",
        "plt.title(class_names[y_train[1]])"
      ],
      "metadata": {
        "colab": {
          "base_uri": "https://localhost:8080/",
          "height": 298
        },
        "id": "YzNV0gu2GkYy",
        "outputId": "37d601ef-de1d-4c29-a098-aa6693e91897"
      },
      "execution_count": null,
      "outputs": [
        {
          "output_type": "execute_result",
          "data": {
            "text/plain": [
              "Text(0.5, 1.0, 'T-shirt/top')"
            ]
          },
          "metadata": {},
          "execution_count": 17
        },
        {
          "output_type": "display_data",
          "data": {
            "text/plain": [
              "<Figure size 432x288 with 1 Axes>"
            ],
            "image/png": "[encoded data removed]"
          },
          "metadata": {
            "needs_background": "light"
          }
        }
      ]
    },
    {
      "cell_type": "code",
      "source": [
        "plt.imshow(x_train[16], cmap=\"gray\")\n",
        "plt.title(class_names[y_train[16]])"
      ],
      "metadata": {
        "colab": {
          "base_uri": "https://localhost:8080/",
          "height": 298
        },
        "id": "GIkqpKVEHebK",
        "outputId": "02460a6f-49d0-4a40-88f0-fdde546ddf96"
      },
      "execution_count": null,
      "outputs": [
        {
          "output_type": "execute_result",
          "data": {
            "text/plain": [
              "Text(0.5, 1.0, 'Trouser')"
            ]
          },
          "metadata": {},
          "execution_count": 18
        },
        {
          "output_type": "display_data",
          "data": {
            "text/plain": [
              "<Figure size 432x288 with 1 Axes>"
            ],
            "image/png": "[encoded data removed]"
          },
          "metadata": {
            "needs_background": "light"
          }
        }
      ]
    },
    {
      "cell_type": "code",
      "source": [
        "plt.imshow(x_train[5], cmap=\"gray\")\n",
        "plt.title(class_names[y_train[5]])"
      ],
      "metadata": {
        "colab": {
          "base_uri": "https://localhost:8080/",
          "height": 298
        },
        "id": "L1Z7pcjFHk9j",
        "outputId": "5920f4ce-c61f-409a-b6f3-04f9ace4b331"
      },
      "execution_count": null,
      "outputs": [
        {
          "output_type": "execute_result",
          "data": {
            "text/plain": [
              "Text(0.5, 1.0, 'Pullover')"
            ]
          },
          "metadata": {},
          "execution_count": 19
        },
        {
          "output_type": "display_data",
          "data": {
            "text/plain": [
              "<Figure size 432x288 with 1 Axes>"
            ],
            "image/png": "[encoded data removed]"
          },
          "metadata": {
            "needs_background": "light"
          }
        }
      ]
    },
    {
      "cell_type": "code",
      "source": [
        "plt.imshow(x_train[3], cmap=\"gray\")\n",
        "plt.title(class_names[y_train[3]])"
      ],
      "metadata": {
        "colab": {
          "base_uri": "https://localhost:8080/",
          "height": 298
        },
        "id": "dzWfJ4iuHowz",
        "outputId": "90997939-ad63-464f-9b81-07eefb19a35f"
      },
      "execution_count": null,
      "outputs": [
        {
          "output_type": "execute_result",
          "data": {
            "text/plain": [
              "Text(0.5, 1.0, 'Dress')"
            ]
          },
          "metadata": {},
          "execution_count": 20
        },
        {
          "output_type": "display_data",
          "data": {
            "text/plain": [
              "<Figure size 432x288 with 1 Axes>"
            ],
            "image/png": "[encoded data removed]"
          },
          "metadata": {
            "needs_background": "light"
          }
        }
      ]
    },
    {
      "cell_type": "code",
      "source": [
        "plt.imshow(x_train[19], cmap=\"gray\")\n",
        "plt.title(class_names[y_train[19]])"
      ],
      "metadata": {
        "colab": {
          "base_uri": "https://localhost:8080/",
          "height": 298
        },
        "id": "Bjx66cbkJF4i",
        "outputId": "9a191e94-fc01-4ea4-8966-70514c01db45"
      },
      "execution_count": null,
      "outputs": [
        {
          "output_type": "execute_result",
          "data": {
            "text/plain": [
              "Text(0.5, 1.0, 'Coat')"
            ]
          },
          "metadata": {},
          "execution_count": 21
        },
        {
          "output_type": "display_data",
          "data": {
            "text/plain": [
              "<Figure size 432x288 with 1 Axes>"
            ],
            "image/png": "[encoded data removed]"
          },
          "metadata": {
            "needs_background": "light"
          }
        }
      ]
    },
    {
      "cell_type": "code",
      "source": [
        "plt.imshow(x_train[8], cmap=\"gray\")\n",
        "plt.title(class_names[y_train[8]])"
      ],
      "metadata": {
        "colab": {
          "base_uri": "https://localhost:8080/",
          "height": 298
        },
        "id": "xo2rNK1jJRt4",
        "outputId": "521db25a-4374-444d-c235-cf0c01449e59"
      },
      "execution_count": null,
      "outputs": [
        {
          "output_type": "execute_result",
          "data": {
            "text/plain": [
              "Text(0.5, 1.0, 'Sandal')"
            ]
          },
          "metadata": {},
          "execution_count": 22
        },
        {
          "output_type": "display_data",
          "data": {
            "text/plain": [
              "<Figure size 432x288 with 1 Axes>"
            ],
            "image/png": "[encoded data removed]"
          },
          "metadata": {
            "needs_background": "light"
          }
        }
      ]
    },
    {
      "cell_type": "code",
      "source": [
        "plt.imshow(x_train[18], cmap=\"gray\")\n",
        "plt.title(class_names[y_train[18]])"
      ],
      "metadata": {
        "colab": {
          "base_uri": "https://localhost:8080/",
          "height": 298
        },
        "id": "9Xr8TZI6JaMD",
        "outputId": "53ecc430-a87d-4230-96a2-cb096877ab22"
      },
      "execution_count": null,
      "outputs": [
        {
          "output_type": "execute_result",
          "data": {
            "text/plain": [
              "Text(0.5, 1.0, 'Shirt')"
            ]
          },
          "metadata": {},
          "execution_count": 23
        },
        {
          "output_type": "display_data",
          "data": {
            "text/plain": [
              "<Figure size 432x288 with 1 Axes>"
            ],
            "image/png": "[encoded data removed]"
          },
          "metadata": {
            "needs_background": "light"
          }
        }
      ]
    },
    {
      "cell_type": "code",
      "source": [
        "plt.imshow(x_train[6], cmap=\"gray\")\n",
        "plt.title(class_names[y_train[6]])"
      ],
      "metadata": {
        "colab": {
          "base_uri": "https://localhost:8080/",
          "height": 298
        },
        "id": "lB_SFhXyJg2R",
        "outputId": "fae27bce-7291-4ccb-b325-07a19a407406"
      },
      "execution_count": null,
      "outputs": [
        {
          "output_type": "execute_result",
          "data": {
            "text/plain": [
              "Text(0.5, 1.0, 'Sneaker')"
            ]
          },
          "metadata": {},
          "execution_count": 24
        },
        {
          "output_type": "display_data",
          "data": {
            "text/plain": [
              "<Figure size 432x288 with 1 Axes>"
            ],
            "image/png": "[encoded data removed]"
          },
          "metadata": {
            "needs_background": "light"
          }
        }
      ]
    },
    {
      "cell_type": "code",
      "source": [
        "plt.imshow(x_train[23], cmap=\"gray\")\n",
        "plt.title(class_names[y_train[23]])"
      ],
      "metadata": {
        "colab": {
          "base_uri": "https://localhost:8080/",
          "height": 298
        },
        "id": "nog_OjjkJ0VJ",
        "outputId": "b1c95e77-6156-48b7-8e85-769ea7978a1d"
      },
      "execution_count": null,
      "outputs": [
        {
          "output_type": "execute_result",
          "data": {
            "text/plain": [
              "Text(0.5, 1.0, 'Bag')"
            ]
          },
          "metadata": {},
          "execution_count": 27
        },
        {
          "output_type": "display_data",
          "data": {
            "text/plain": [
              "<Figure size 432x288 with 1 Axes>"
            ],
            "image/png": "[encoded data removed]"
          },
          "metadata": {
            "needs_background": "light"
          }
        }
      ]
    },
    {
      "cell_type": "code",
      "source": [
        "plt.imshow(x_train[0], cmap=\"gray\")\n",
        "plt.title(class_names[y_train[0]])"
      ],
      "metadata": {
        "colab": {
          "base_uri": "https://localhost:8080/",
          "height": 298
        },
        "id": "rQaYzsI2Jp3K",
        "outputId": "281ddd70-fb38-4d72-bf6b-6798c933e8e3"
      },
      "execution_count": null,
      "outputs": [
        {
          "output_type": "execute_result",
          "data": {
            "text/plain": [
              "Text(0.5, 1.0, 'Ankle boot')"
            ]
          },
          "metadata": {},
          "execution_count": 25
        },
        {
          "output_type": "display_data",
          "data": {
            "text/plain": [
              "<Figure size 432x288 with 1 Axes>"
            ],
            "image/png": "[encoded data removed]"
          },
          "metadata": {
            "needs_background": "light"
          }
        }
      ]
    },
    {
      "cell_type": "markdown",
      "source": [
        "#Q4] Perform Normalization"
      ],
      "metadata": {
        "id": "t7nHxZUQO0Gx"
      }
    },
    {
      "cell_type": "code",
      "source": [
        "x_train[0].max()"
      ],
      "metadata": {
        "colab": {
          "base_uri": "https://localhost:8080/"
        },
        "id": "Yzp7RqkWJ_m7",
        "outputId": "b7b053cd-5a2a-4a0a-f58e-c2490ec79032"
      },
      "execution_count": null,
      "outputs": [
        {
          "output_type": "execute_result",
          "data": {
            "text/plain": [
              "255"
            ]
          },
          "metadata": {},
          "execution_count": 30
        }
      ]
    },
    {
      "cell_type": "code",
      "source": [
        "x_train = x_train/255.0\n",
        "x_test = x_test/255.0"
      ],
      "metadata": {
        "id": "H-pAM1-5J5jq"
      },
      "execution_count": null,
      "outputs": []
    },
    {
      "cell_type": "markdown",
      "source": [
        "#Q5] Build 2 neural networks with 2 hidden layers and 5 hidden layers"
      ],
      "metadata": {
        "id": "Ns9M6t5oO5SK"
      }
    },
    {
      "cell_type": "code",
      "source": [
        "model1 = tf.keras.Sequential()\n",
        "model1.add(tf.keras.layers.Flatten(input_shape=[28,28], name=\"inputLayer\"))\n",
        "model1.add(tf.keras.layers.Dense(300,activation=\"relu\", name=\"hiddenLayer1\"))\n",
        "model1.add(tf.keras.layers.Dense(100,activation=\"relu\", name=\"hiddenLayer2\"))\n",
        "model1.add(tf.keras.layers.Dense(10,activation=\"softmax\", name=\"outputLayer\"))"
      ],
      "metadata": {
        "id": "Gz3yM_5YKJFR"
      },
      "execution_count": null,
      "outputs": []
    },
    {
      "cell_type": "code",
      "source": [
        "model1.summary()"
      ],
      "metadata": {
        "colab": {
          "base_uri": "https://localhost:8080/"
        },
        "id": "SbCDdW1mMOJb",
        "outputId": "5fd6de38-5509-4137-f68a-1ec70728d3b0"
      },
      "execution_count": null,
      "outputs": [
        {
          "output_type": "stream",
          "name": "stdout",
          "text": [
            "Model: \"sequential\"\n",
            "_________________________________________________________________\n",
            " Layer (type)                Output Shape              Param #   \n",
            "=================================================================\n",
            " inputLayer (Flatten)        (None, 784)               0         \n",
            "                                                                 \n",
            " hiddenLayer1 (Dense)        (None, 300)               235500    \n",
            "                                                                 \n",
            " hiddenLayer2 (Dense)        (None, 100)               30100     \n",
            "                                                                 \n",
            " outputLayer (Dense)         (None, 10)                1010      \n",
            "                                                                 \n",
            "=================================================================\n",
            "Total params: 266,610\n",
            "Trainable params: 266,610\n",
            "Non-trainable params: 0\n",
            "_________________________________________________________________\n"
          ]
        }
      ]
    },
    {
      "cell_type": "code",
      "source": [
        "model1.compile(optimizer=\"adam\",\n",
        "                loss=\"sparse_categorical_crossentropy\",\n",
        "                metrics=[\"accuracy\"])"
      ],
      "metadata": {
        "id": "fvc_c1cHKQbU"
      },
      "execution_count": null,
      "outputs": []
    },
    {
      "cell_type": "code",
      "source": [
        "model2 = tf.keras.Sequential()\n",
        "model2.add(tf.keras.layers.Flatten(input_shape=[28,28], name=\"inputLayer\"))\n",
        "model2.add(tf.keras.layers.Dense(500,activation=\"relu\", name=\"hiddenLayer1\"))\n",
        "model2.add(tf.keras.layers.Dense(400,activation=\"relu\", name=\"hiddenLayer2\"))\n",
        "model2.add(tf.keras.layers.Dense(300,activation=\"relu\", name=\"hiddenLayer3\"))\n",
        "model2.add(tf.keras.layers.Dense(200,activation=\"relu\", name=\"hiddenLayer4\"))\n",
        "model2.add(tf.keras.layers.Dense(100,activation=\"relu\", name=\"hiddenLayer5\"))\n",
        "model2.add(tf.keras.layers.Dense(10,activation=\"softmax\", name=\"outputLayer\"))"
      ],
      "metadata": {
        "id": "gEZpFKF1L3jK"
      },
      "execution_count": null,
      "outputs": []
    },
    {
      "cell_type": "code",
      "source": [
        "model2.summary()"
      ],
      "metadata": {
        "colab": {
          "base_uri": "https://localhost:8080/"
        },
        "id": "UJw4dREDML4R",
        "outputId": "603d00a2-6033-4266-ccc5-70957c9b366a"
      },
      "execution_count": null,
      "outputs": [
        {
          "output_type": "stream",
          "name": "stdout",
          "text": [
            "Model: \"sequential_1\"\n",
            "_________________________________________________________________\n",
            " Layer (type)                Output Shape              Param #   \n",
            "=================================================================\n",
            " inputLayer (Flatten)        (None, 784)               0         \n",
            "                                                                 \n",
            " hiddenLayer1 (Dense)        (None, 500)               392500    \n",
            "                                                                 \n",
            " hiddenLayer2 (Dense)        (None, 400)               200400    \n",
            "                                                                 \n",
            " hiddenLayer3 (Dense)        (None, 300)               120300    \n",
            "                                                                 \n",
            " hiddenLayer4 (Dense)        (None, 200)               60200     \n",
            "                                                                 \n",
            " hiddenLayer5 (Dense)        (None, 100)               20100     \n",
            "                                                                 \n",
            " outputLayer (Dense)         (None, 10)                1010      \n",
            "                                                                 \n",
            "=================================================================\n",
            "Total params: 794,510\n",
            "Trainable params: 794,510\n",
            "Non-trainable params: 0\n",
            "_________________________________________________________________\n"
          ]
        }
      ]
    },
    {
      "cell_type": "code",
      "source": [
        "model2.compile(optimizer=\"adam\",\n",
        "                loss=\"sparse_categorical_crossentropy\",\n",
        "                metrics=[\"accuracy\"])"
      ],
      "metadata": {
        "id": "CFvAip_kMJgz"
      },
      "execution_count": null,
      "outputs": []
    },
    {
      "cell_type": "markdown",
      "source": [
        "#Q6] Train and test the two networks"
      ],
      "metadata": {
        "id": "hL4LkuGwPM6w"
      }
    },
    {
      "cell_type": "code",
      "source": [
        "history1 = model1.fit(x_train, y_train, batch_size=32, epochs=25, validation_split=0.1)"
      ],
      "metadata": {
        "colab": {
          "base_uri": "https://localhost:8080/"
        },
        "id": "J9bavvl4KjOy",
        "outputId": "21205839-9736-4c23-9896-eacc7a8a831c"
      },
      "execution_count": null,
      "outputs": [
        {
          "output_type": "stream",
          "name": "stdout",
          "text": [
            "Epoch 1/25\n",
            "1688/1688 [==============================] - 5s 3ms/step - loss: 0.1352 - accuracy: 0.9484 - val_loss: 0.4196 - val_accuracy: 0.8963\n",
            "Epoch 2/25\n",
            "1688/1688 [==============================] - 5s 3ms/step - loss: 0.1343 - accuracy: 0.9501 - val_loss: 0.4226 - val_accuracy: 0.8933\n",
            "Epoch 3/25\n",
            "1688/1688 [==============================] - 5s 3ms/step - loss: 0.1295 - accuracy: 0.9503 - val_loss: 0.4022 - val_accuracy: 0.8952\n",
            "Epoch 4/25\n",
            "1688/1688 [==============================] - 5s 3ms/step - loss: 0.1227 - accuracy: 0.9524 - val_loss: 0.4471 - val_accuracy: 0.8912\n",
            "Epoch 5/25\n",
            "1688/1688 [==============================] - 4s 3ms/step - loss: 0.1250 - accuracy: 0.9529 - val_loss: 0.4582 - val_accuracy: 0.8903\n",
            "Epoch 6/25\n",
            "1688/1688 [==============================] - 5s 3ms/step - loss: 0.1189 - accuracy: 0.9541 - val_loss: 0.4635 - val_accuracy: 0.8935\n",
            "Epoch 7/25\n",
            "1688/1688 [==============================] - 4s 3ms/step - loss: 0.1184 - accuracy: 0.9546 - val_loss: 0.4665 - val_accuracy: 0.8895\n",
            "Epoch 8/25\n",
            "1688/1688 [==============================] - 5s 3ms/step - loss: 0.1154 - accuracy: 0.9563 - val_loss: 0.4710 - val_accuracy: 0.8963\n",
            "Epoch 9/25\n",
            "1688/1688 [==============================] - 4s 3ms/step - loss: 0.1124 - accuracy: 0.9574 - val_loss: 0.5151 - val_accuracy: 0.8920\n",
            "Epoch 10/25\n",
            "1688/1688 [==============================] - 5s 3ms/step - loss: 0.1096 - accuracy: 0.9583 - val_loss: 0.4685 - val_accuracy: 0.8953\n",
            "Epoch 11/25\n",
            "1688/1688 [==============================] - 4s 3ms/step - loss: 0.1075 - accuracy: 0.9586 - val_loss: 0.5078 - val_accuracy: 0.8915\n",
            "Epoch 12/25\n",
            "1688/1688 [==============================] - 4s 3ms/step - loss: 0.1074 - accuracy: 0.9586 - val_loss: 0.4766 - val_accuracy: 0.8948\n",
            "Epoch 13/25\n",
            "1688/1688 [==============================] - 5s 3ms/step - loss: 0.1024 - accuracy: 0.9609 - val_loss: 0.5096 - val_accuracy: 0.8962\n",
            "Epoch 14/25\n",
            "1688/1688 [==============================] - 5s 3ms/step - loss: 0.1023 - accuracy: 0.9607 - val_loss: 0.5214 - val_accuracy: 0.8958\n",
            "Epoch 15/25\n",
            "1688/1688 [==============================] - 5s 3ms/step - loss: 0.0978 - accuracy: 0.9629 - val_loss: 0.5251 - val_accuracy: 0.8902\n",
            "Epoch 16/25\n",
            "1688/1688 [==============================] - 5s 3ms/step - loss: 0.0956 - accuracy: 0.9634 - val_loss: 0.5549 - val_accuracy: 0.8922\n",
            "Epoch 17/25\n",
            "1688/1688 [==============================] - 5s 3ms/step - loss: 0.0936 - accuracy: 0.9637 - val_loss: 0.5708 - val_accuracy: 0.8882\n",
            "Epoch 18/25\n",
            "1688/1688 [==============================] - 5s 3ms/step - loss: 0.0945 - accuracy: 0.9636 - val_loss: 0.5533 - val_accuracy: 0.8933\n",
            "Epoch 19/25\n",
            "1688/1688 [==============================] - 4s 3ms/step - loss: 0.0909 - accuracy: 0.9648 - val_loss: 0.5497 - val_accuracy: 0.8932\n",
            "Epoch 20/25\n",
            "1688/1688 [==============================] - 5s 3ms/step - loss: 0.0869 - accuracy: 0.9674 - val_loss: 0.5451 - val_accuracy: 0.8918\n",
            "Epoch 21/25\n",
            "1688/1688 [==============================] - 5s 3ms/step - loss: 0.0902 - accuracy: 0.9658 - val_loss: 0.5820 - val_accuracy: 0.8923\n",
            "Epoch 22/25\n",
            "1688/1688 [==============================] - 5s 3ms/step - loss: 0.0847 - accuracy: 0.9679 - val_loss: 0.5445 - val_accuracy: 0.8942\n",
            "Epoch 23/25\n",
            "1688/1688 [==============================] - 5s 3ms/step - loss: 0.0876 - accuracy: 0.9668 - val_loss: 0.6275 - val_accuracy: 0.8920\n",
            "Epoch 24/25\n",
            "1688/1688 [==============================] - 4s 3ms/step - loss: 0.0840 - accuracy: 0.9674 - val_loss: 0.6079 - val_accuracy: 0.8955\n",
            "Epoch 25/25\n",
            "1688/1688 [==============================] - 4s 3ms/step - loss: 0.0818 - accuracy: 0.9690 - val_loss: 0.5892 - val_accuracy: 0.8900\n"
          ]
        }
      ]
    },
    {
      "cell_type": "code",
      "source": [
        "test_loss1, test_acc1 = model1.evaluate(x_test, y_test)"
      ],
      "metadata": {
        "colab": {
          "base_uri": "https://localhost:8080/"
        },
        "id": "Esdnf25_NSjL",
        "outputId": "10000eb2-3603-44ec-e2e1-b9735d0149f1"
      },
      "execution_count": null,
      "outputs": [
        {
          "output_type": "stream",
          "name": "stdout",
          "text": [
            "313/313 [==============================] - 1s 2ms/step - loss: 0.6177 - accuracy: 0.8904\n"
          ]
        }
      ]
    },
    {
      "cell_type": "code",
      "source": [
        "history2 = model2.fit(x_train, y_train, batch_size=32, epochs=15, validation_split=0.1)"
      ],
      "metadata": {
        "colab": {
          "base_uri": "https://localhost:8080/"
        },
        "id": "JDgVBUk9MYhK",
        "outputId": "d694386d-1083-4daa-d9d9-051eaee64ab9"
      },
      "execution_count": null,
      "outputs": [
        {
          "output_type": "stream",
          "name": "stdout",
          "text": [
            "Epoch 1/15\n",
            "1688/1688 [==============================] - 5s 3ms/step - loss: 0.2312 - accuracy: 0.9135 - val_loss: 0.3214 - val_accuracy: 0.8892\n",
            "Epoch 2/15\n",
            "1688/1688 [==============================] - 5s 3ms/step - loss: 0.2247 - accuracy: 0.9166 - val_loss: 0.3663 - val_accuracy: 0.8892\n",
            "Epoch 3/15\n",
            "1688/1688 [==============================] - 5s 3ms/step - loss: 0.2194 - accuracy: 0.9176 - val_loss: 0.3259 - val_accuracy: 0.8942\n",
            "Epoch 4/15\n",
            "1688/1688 [==============================] - 5s 3ms/step - loss: 0.2149 - accuracy: 0.9186 - val_loss: 0.3734 - val_accuracy: 0.8860\n",
            "Epoch 5/15\n",
            "1688/1688 [==============================] - 5s 3ms/step - loss: 0.2035 - accuracy: 0.9233 - val_loss: 0.3606 - val_accuracy: 0.8882\n",
            "Epoch 6/15\n",
            "1688/1688 [==============================] - 5s 3ms/step - loss: 0.2030 - accuracy: 0.9234 - val_loss: 0.3609 - val_accuracy: 0.8873\n",
            "Epoch 7/15\n",
            "1688/1688 [==============================] - 6s 3ms/step - loss: 0.1998 - accuracy: 0.9240 - val_loss: 0.3701 - val_accuracy: 0.8917\n",
            "Epoch 8/15\n",
            "1688/1688 [==============================] - 5s 3ms/step - loss: 0.1888 - accuracy: 0.9292 - val_loss: 0.3860 - val_accuracy: 0.8923\n",
            "Epoch 9/15\n",
            "1688/1688 [==============================] - 5s 3ms/step - loss: 0.1893 - accuracy: 0.9299 - val_loss: 0.3769 - val_accuracy: 0.8830\n",
            "Epoch 10/15\n",
            "1688/1688 [==============================] - 5s 3ms/step - loss: 0.1827 - accuracy: 0.9304 - val_loss: 0.3927 - val_accuracy: 0.8922\n",
            "Epoch 11/15\n",
            "1688/1688 [==============================] - 5s 3ms/step - loss: 0.1764 - accuracy: 0.9332 - val_loss: 0.4071 - val_accuracy: 0.8858\n",
            "Epoch 12/15\n",
            "1688/1688 [==============================] - 5s 3ms/step - loss: 0.1773 - accuracy: 0.9326 - val_loss: 0.4063 - val_accuracy: 0.8868\n",
            "Epoch 13/15\n",
            "1688/1688 [==============================] - 6s 3ms/step - loss: 0.1681 - accuracy: 0.9371 - val_loss: 0.4259 - val_accuracy: 0.8850\n",
            "Epoch 14/15\n",
            "1688/1688 [==============================] - 5s 3ms/step - loss: 0.1665 - accuracy: 0.9363 - val_loss: 0.4876 - val_accuracy: 0.8960\n",
            "Epoch 15/15\n",
            "1688/1688 [==============================] - 6s 3ms/step - loss: 0.1645 - accuracy: 0.9381 - val_loss: 0.4921 - val_accuracy: 0.8903\n"
          ]
        }
      ]
    },
    {
      "cell_type": "code",
      "source": [
        "test_loss2, test_acc2 = model2.evaluate(x_test, y_test)"
      ],
      "metadata": {
        "colab": {
          "base_uri": "https://localhost:8080/"
        },
        "id": "L4MRiy1-NYuy",
        "outputId": "d297488f-1a83-40d4-d7b3-7ecd6db7c35e"
      },
      "execution_count": null,
      "outputs": [
        {
          "output_type": "stream",
          "name": "stdout",
          "text": [
            "313/313 [==============================] - 1s 2ms/step - loss: 0.4992 - accuracy: 0.8858\n"
          ]
        }
      ]
    },
    {
      "cell_type": "markdown",
      "source": [
        "#Q7] Compare their performances"
      ],
      "metadata": {
        "id": "aI5vvUaHPR5p"
      }
    },
    {
      "cell_type": "code",
      "source": [
        "print(\"Model1 with 2 Hidden Layers\")\n",
        "print(\"Test Loss: {0} - Test Acc: {1}\".format(test_loss1, test_acc1))\n",
        "print()\n",
        "print(\"Model2 with 5 Hidden Layers\")\n",
        "print(\"Test Loss: {0} - Test Acc: {1}\".format(test_loss2, test_acc2))"
      ],
      "metadata": {
        "colab": {
          "base_uri": "https://localhost:8080/"
        },
        "id": "WUFtr0-ANxTS",
        "outputId": "d9bdb436-e33a-484e-9925-a4fe21be598e"
      },
      "execution_count": null,
      "outputs": [
        {
          "output_type": "stream",
          "name": "stdout",
          "text": [
            "Model1 with 2 Hidden Layers\n",
            "Test Loss: 0.6177261471748352 - Test Acc: 0.8903999924659729\n",
            "\n",
            "Model2 with 5 Hidden Layers\n",
            "Test Loss: 0.49919477105140686 - Test Acc: 0.8858000040054321\n"
          ]
        }
      ]
    },
    {
      "cell_type": "markdown",
      "source": [
        "Conclusion:\n",
        "Performance of both models is almost the same. Hence, by adding 3 extra hidden layers we are not gaining more accuracy."
      ],
      "metadata": {
        "id": "ph4dT-QTUkq5"
      }
    },
    {
      "cell_type": "code",
      "source": [
        "acc1 = history1.history['accuracy']\n",
        "val_acc1 = history1.history['val_accuracy']\n",
        "loss1 = history1.history['loss']\n",
        "val_loss1 = history1.history['val_loss']\n",
        "\n",
        "ep1 = np.arange(1,26)"
      ],
      "metadata": {
        "id": "kXsKv39kQHYR"
      },
      "execution_count": null,
      "outputs": []
    },
    {
      "cell_type": "code",
      "source": [
        "plt.title(\"Accuracy vs Validation Accuracy for Model 1\")\n",
        "sns.lineplot(x=ep1,y = acc1)\n",
        "sns.lineplot(x=ep1,y = val_acc1)\n",
        "plt.legend([\"Accuracy\", \"Validation Accuracy\"])"
      ],
      "metadata": {
        "colab": {
          "base_uri": "https://localhost:8080/",
          "height": 298
        },
        "id": "wfgldzenSOyQ",
        "outputId": "cfa04a17-faea-4f76-ceac-751e131dad18"
      },
      "execution_count": null,
      "outputs": [
        {
          "output_type": "execute_result",
          "data": {
            "text/plain": [
              "<matplotlib.legend.Legend at 0x7fe44570fcd0>"
            ]
          },
          "metadata": {},
          "execution_count": 75
        },
        {
          "output_type": "display_data",
          "data": {
            "text/plain": [
              "<Figure size 432x288 with 1 Axes>"
            ],
            "image/png": "[encoded data removed]"
          },
          "metadata": {
            "needs_background": "light"
          }
        }
      ]
    },
    {
      "cell_type": "code",
      "source": [
        "plt.title(\"Loss vs Validation Loss for Model 1\")\n",
        "sns.lineplot(x=ep1,y = loss1)\n",
        "sns.lineplot(x=ep1,y = val_loss1)\n",
        "plt.legend([\"Loss\", \"Validation Loss\"])"
      ],
      "metadata": {
        "colab": {
          "base_uri": "https://localhost:8080/",
          "height": 298
        },
        "id": "JsNLyzsqS_aQ",
        "outputId": "54c00744-9104-47a3-a096-bb4411e9118a"
      },
      "execution_count": null,
      "outputs": [
        {
          "output_type": "execute_result",
          "data": {
            "text/plain": [
              "<matplotlib.legend.Legend at 0x7fe44550fb10>"
            ]
          },
          "metadata": {},
          "execution_count": 76
        },
        {
          "output_type": "display_data",
          "data": {
            "text/plain": [
              "<Figure size 432x288 with 1 Axes>"
            ],
            "image/png": "[encoded data removed]"
          },
          "metadata": {
            "needs_background": "light"
          }
        }
      ]
    },
    {
      "cell_type": "code",
      "source": [
        "acc2 = history2.history['accuracy']\n",
        "val_acc2 = history2.history['val_accuracy']\n",
        "loss2 = history2.history['loss']\n",
        "val_loss2 = history2.history['val_loss']\n",
        "\n",
        "ep2 = np.arange(1,16)"
      ],
      "metadata": {
        "id": "DT_nsBkNSbYI"
      },
      "execution_count": null,
      "outputs": []
    },
    {
      "cell_type": "code",
      "source": [
        "plt.title(\"Accuracy vs Validation Accuracy for Model 2\")\n",
        "sns.lineplot(x=ep2,y = acc2)\n",
        "sns.lineplot(x=ep2,y = val_acc2)\n",
        "plt.legend([\"Accuracy\", \"Validation Accuracy\"])"
      ],
      "metadata": {
        "colab": {
          "base_uri": "https://localhost:8080/",
          "height": 298
        },
        "id": "4MJBvLkTSi3p",
        "outputId": "dd2fdcc9-2e79-4022-912b-a2dc0dfd1f5c"
      },
      "execution_count": null,
      "outputs": [
        {
          "output_type": "execute_result",
          "data": {
            "text/plain": [
              "<matplotlib.legend.Legend at 0x7fe445501e10>"
            ]
          },
          "metadata": {},
          "execution_count": 77
        },
        {
          "output_type": "display_data",
          "data": {
            "text/plain": [
              "<Figure size 432x288 with 1 Axes>"
            ],
            "image/png": "[encoded data removed]"
          },
          "metadata": {
            "needs_background": "light"
          }
        }
      ]
    },
    {
      "cell_type": "code",
      "source": [
        "plt.title(\"Loss vs Validation Loss for Model 2\")\n",
        "sns.lineplot(x=ep2,y = loss2)\n",
        "sns.lineplot(x=ep2,y = val_loss2)\n",
        "plt.legend([\"Loss\", \"Validation Loss\"])"
      ],
      "metadata": {
        "colab": {
          "base_uri": "https://localhost:8080/",
          "height": 298
        },
        "id": "H4P8MD1oTHYX",
        "outputId": "7947cb35-42db-423c-f2e5-ca8ca52ee17a"
      },
      "execution_count": null,
      "outputs": [
        {
          "output_type": "execute_result",
          "data": {
            "text/plain": [
              "<matplotlib.legend.Legend at 0x7fe4453cafd0>"
            ]
          },
          "metadata": {},
          "execution_count": 78
        },
        {
          "output_type": "display_data",
          "data": {
            "text/plain": [
              "<Figure size 432x288 with 1 Axes>"
            ],
            "image/png": "[encoded data removed]"
          },
          "metadata": {
            "needs_background": "light"
          }
        }
      ]
    }
  ]
}