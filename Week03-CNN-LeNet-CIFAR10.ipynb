{
  "cells": [
    {
      "cell_type": "code",
      "execution_count": null,
      "metadata": {
        "id": "4LEjiFne570u"
      },
      "outputs": [],
      "source": [
        "import tensorflow as tf\n",
        "import numpy as np\n",
        "import matplotlib.pyplot as plt\n",
        "import seaborn as sns"
      ]
    },
    {
      "cell_type": "markdown",
      "metadata": {
        "id": "4gej8EX1CF4M"
      },
      "source": [
        "# Dataset Preprocessing"
      ]
    },
    {
      "cell_type": "code",
      "execution_count": null,
      "metadata": {
        "id": "6SY0wFqPJTlR"
      },
      "outputs": [],
      "source": [
        "mnist_classes = [0,1,2,3,4,5,6,7,8,9]\n",
        "cifar10_classes = ['airplane','automobile','bird','cat','deer','dog','frog','horse','ship','truck']"
      ]
    },
    {
      "cell_type": "code",
      "execution_count": null,
      "metadata": {
        "id": "m8zGc6yc6jQD",
        "colab": {
          "base_uri": "https://localhost:8080/"
        },
        "outputId": "3adfb63d-f57f-4bad-9a1e-fb4be4eafac5"
      },
      "outputs": [
        {
          "output_type": "stream",
          "name": "stdout",
          "text": [
            "Downloading data from https://storage.googleapis.com/tensorflow/tf-keras-datasets/mnist.npz\n",
            "11493376/11490434 [==============================] - 0s 0us/step\n",
            "11501568/11490434 [==============================] - 0s 0us/step\n"
          ]
        }
      ],
      "source": [
        "mnist = tf.keras.datasets.mnist\n",
        "(x1_train,y1_train),(x1_test,y1_test)=mnist.load_data()"
      ]
    },
    {
      "cell_type": "code",
      "execution_count": null,
      "metadata": {
        "colab": {
          "base_uri": "https://localhost:8080/"
        },
        "id": "2mFs-eMz7vD6",
        "outputId": "9c947381-2657-4de0-9929-d910777dd2b9"
      },
      "outputs": [
        {
          "output_type": "execute_result",
          "data": {
            "text/plain": [
              "(60000, 28, 28)"
            ]
          },
          "metadata": {},
          "execution_count": 4
        }
      ],
      "source": [
        "x1_train.shape"
      ]
    },
    {
      "cell_type": "code",
      "execution_count": null,
      "metadata": {
        "colab": {
          "base_uri": "https://localhost:8080/"
        },
        "id": "8fHP87aT70DC",
        "outputId": "ec38a74f-b883-4364-f8c0-8bcb136e79ef"
      },
      "outputs": [
        {
          "output_type": "execute_result",
          "data": {
            "text/plain": [
              "255"
            ]
          },
          "metadata": {},
          "execution_count": 5
        }
      ],
      "source": [
        "x1_train[0].max()"
      ]
    },
    {
      "cell_type": "code",
      "execution_count": null,
      "metadata": {
        "colab": {
          "base_uri": "https://localhost:8080/"
        },
        "id": "ppX2yHi-P7Iu",
        "outputId": "e46d1902-8a53-4216-bc19-42408c77cfd1"
      },
      "outputs": [
        {
          "output_type": "stream",
          "name": "stdout",
          "text": [
            "Class: 0 | label: 0\n",
            "No. of Training Samples: 5923\n",
            "No. of Testing Samples: 980\n",
            "\n",
            "Class: 1 | label: 1\n",
            "No. of Training Samples: 6742\n",
            "No. of Testing Samples: 1135\n",
            "\n",
            "Class: 2 | label: 2\n",
            "No. of Training Samples: 5958\n",
            "No. of Testing Samples: 1032\n",
            "\n",
            "Class: 3 | label: 3\n",
            "No. of Training Samples: 6131\n",
            "No. of Testing Samples: 1010\n",
            "\n",
            "Class: 4 | label: 4\n",
            "No. of Training Samples: 5842\n",
            "No. of Testing Samples: 982\n",
            "\n",
            "Class: 5 | label: 5\n",
            "No. of Training Samples: 5421\n",
            "No. of Testing Samples: 892\n",
            "\n",
            "Class: 6 | label: 6\n",
            "No. of Training Samples: 5918\n",
            "No. of Testing Samples: 958\n",
            "\n",
            "Class: 7 | label: 7\n",
            "No. of Training Samples: 6265\n",
            "No. of Testing Samples: 1028\n",
            "\n",
            "Class: 8 | label: 8\n",
            "No. of Training Samples: 5851\n",
            "No. of Testing Samples: 974\n",
            "\n",
            "Class: 9 | label: 9\n",
            "No. of Training Samples: 5949\n",
            "No. of Testing Samples: 1009\n",
            "\n"
          ]
        }
      ],
      "source": [
        "for i in range(10):\n",
        "  print(\"Class: {num} | label: {lbl}\".format(num=i,lbl=mnist_classes[i]))\n",
        "  print(\"No. of Training Samples: {x}\".format(x=np.count_nonzero(y1_train == i)))\n",
        "  print(\"No. of Testing Samples: {x}\".format(x=np.count_nonzero(y1_test == i)))\n",
        "  print()  "
      ]
    },
    {
      "cell_type": "code",
      "execution_count": null,
      "metadata": {
        "colab": {
          "base_uri": "https://localhost:8080/"
        },
        "id": "5P7BKRAVQ-Lw",
        "outputId": "c2dd1261-396d-4099-b419-e92a9876e990"
      },
      "outputs": [
        {
          "output_type": "display_data",
          "data": {
            "text/plain": [
              "<Figure size 432x288 with 1 Axes>"
            ],
            "image/png": "[encoded data removed]"
          },
          "metadata": {
            "needs_background": "light"
          }
        },
        {
          "output_type": "stream",
          "name": "stdout",
          "text": [
            "\n",
            "\n"
          ]
        },
        {
          "output_type": "display_data",
          "data": {
            "text/plain": [
              "<Figure size 432x288 with 1 Axes>"
            ],
            "image/png": "[encoded data removed]"
          },
          "metadata": {
            "needs_background": "light"
          }
        },
        {
          "output_type": "stream",
          "name": "stdout",
          "text": [
            "\n",
            "\n"
          ]
        },
        {
          "output_type": "display_data",
          "data": {
            "text/plain": [
              "<Figure size 432x288 with 1 Axes>"
            ],
            "image/png": "[encoded data removed]"
          },
          "metadata": {
            "needs_background": "light"
          }
        },
        {
          "output_type": "stream",
          "name": "stdout",
          "text": [
            "\n",
            "\n"
          ]
        },
        {
          "output_type": "display_data",
          "data": {
            "text/plain": [
              "<Figure size 432x288 with 1 Axes>"
            ],
            "image/png": "[encoded data removed]"
          },
          "metadata": {
            "needs_background": "light"
          }
        },
        {
          "output_type": "stream",
          "name": "stdout",
          "text": [
            "\n",
            "\n"
          ]
        },
        {
          "output_type": "display_data",
          "data": {
            "text/plain": [
              "<Figure size 432x288 with 1 Axes>"
            ],
            "image/png": "[encoded data removed]"
          },
          "metadata": {
            "needs_background": "light"
          }
        },
        {
          "output_type": "stream",
          "name": "stdout",
          "text": [
            "\n",
            "\n"
          ]
        },
        {
          "output_type": "display_data",
          "data": {
            "text/plain": [
              "<Figure size 432x288 with 1 Axes>"
            ],
            "image/png": "[encoded data removed]"
          },
          "metadata": {
            "needs_background": "light"
          }
        },
        {
          "output_type": "stream",
          "name": "stdout",
          "text": [
            "\n",
            "\n"
          ]
        },
        {
          "output_type": "display_data",
          "data": {
            "text/plain": [
              "<Figure size 432x288 with 1 Axes>"
            ],
            "image/png": "[encoded data removed]"
          },
          "metadata": {
            "needs_background": "light"
          }
        },
        {
          "output_type": "stream",
          "name": "stdout",
          "text": [
            "\n",
            "\n"
          ]
        },
        {
          "output_type": "display_data",
          "data": {
            "text/plain": [
              "<Figure size 432x288 with 1 Axes>"
            ],
            "image/png": "[encoded data removed]"
          },
          "metadata": {
            "needs_background": "light"
          }
        },
        {
          "output_type": "stream",
          "name": "stdout",
          "text": [
            "\n",
            "\n"
          ]
        },
        {
          "output_type": "display_data",
          "data": {
            "text/plain": [
              "<Figure size 432x288 with 1 Axes>"
            ],
            "image/png": "[encoded data removed]"
          },
          "metadata": {
            "needs_background": "light"
          }
        },
        {
          "output_type": "stream",
          "name": "stdout",
          "text": [
            "\n",
            "\n"
          ]
        },
        {
          "output_type": "display_data",
          "data": {
            "text/plain": [
              "<Figure size 432x288 with 1 Axes>"
            ],
            "image/png": "[encoded data removed]"
          },
          "metadata": {
            "needs_background": "light"
          }
        },
        {
          "output_type": "stream",
          "name": "stdout",
          "text": [
            "\n",
            "\n"
          ]
        }
      ],
      "source": [
        "cl = 0;\n",
        "for i in range(25):\n",
        "  if y1_train[i]==cl:\n",
        "    plt.imshow(x1_train[i], cmap=\"gray\")\n",
        "    plt.title(\"Label: \"+ str(mnist_classes[y1_train[i]]))\n",
        "    plt.show()\n",
        "    print()\n",
        "    print()\n",
        "    cl = cl+1\n",
        "  if cl>10:\n",
        "    break;"
      ]
    },
    {
      "cell_type": "code",
      "execution_count": null,
      "metadata": {
        "id": "PT-qKg9l7IXt",
        "colab": {
          "base_uri": "https://localhost:8080/"
        },
        "outputId": "ab6772fb-f097-4c09-920d-8d54c4683625"
      },
      "outputs": [
        {
          "output_type": "stream",
          "name": "stdout",
          "text": [
            "Downloading data from https://www.cs.toronto.edu/~kriz/cifar-10-python.tar.gz\n",
            "170500096/170498071 [==============================] - 2s 0us/step\n",
            "170508288/170498071 [==============================] - 2s 0us/step\n"
          ]
        }
      ],
      "source": [
        "cifar10 = tf.keras.datasets.cifar10\n",
        "(x2_train,y2_train),(x2_test,y2_test)=cifar10.load_data()"
      ]
    },
    {
      "cell_type": "code",
      "execution_count": null,
      "metadata": {
        "colab": {
          "base_uri": "https://localhost:8080/"
        },
        "id": "duF4yomF7wz6",
        "outputId": "4e9f876d-b269-4c44-c60a-10ad9a53b5b1"
      },
      "outputs": [
        {
          "output_type": "execute_result",
          "data": {
            "text/plain": [
              "(32, 32, 3)"
            ]
          },
          "metadata": {},
          "execution_count": 9
        }
      ],
      "source": [
        "x2_train[0].shape"
      ]
    },
    {
      "cell_type": "code",
      "execution_count": null,
      "metadata": {
        "colab": {
          "base_uri": "https://localhost:8080/"
        },
        "id": "p9T0bbvD76-T",
        "outputId": "d1a76d4b-be95-488a-ee3c-049466a2078f"
      },
      "outputs": [
        {
          "output_type": "execute_result",
          "data": {
            "text/plain": [
              "255"
            ]
          },
          "metadata": {},
          "execution_count": 10
        }
      ],
      "source": [
        "x2_train[0].max()"
      ]
    },
    {
      "cell_type": "code",
      "execution_count": null,
      "metadata": {
        "colab": {
          "base_uri": "https://localhost:8080/"
        },
        "id": "xLWC1yWQ-vW6",
        "outputId": "630b19d4-2447-45f5-d8f3-590e530ae1ce"
      },
      "outputs": [
        {
          "output_type": "execute_result",
          "data": {
            "text/plain": [
              "array([0, 1, 2, 3, 4, 5, 6, 7, 8, 9], dtype=uint8)"
            ]
          },
          "metadata": {},
          "execution_count": 11
        }
      ],
      "source": [
        "np.unique(y2_train)"
      ]
    },
    {
      "cell_type": "code",
      "execution_count": null,
      "metadata": {
        "colab": {
          "base_uri": "https://localhost:8080/"
        },
        "id": "Fao59Sf3OCmJ",
        "outputId": "7efa6d30-f7d5-4d1f-9c78-d033ab538f30"
      },
      "outputs": [
        {
          "output_type": "stream",
          "name": "stdout",
          "text": [
            "Class: 0 | label: airplane\n",
            "No. of Training Samples: 5000\n",
            "No. of Testing Samples: 1000\n",
            "\n",
            "Class: 1 | label: automobile\n",
            "No. of Training Samples: 5000\n",
            "No. of Testing Samples: 1000\n",
            "\n",
            "Class: 2 | label: bird\n",
            "No. of Training Samples: 5000\n",
            "No. of Testing Samples: 1000\n",
            "\n",
            "Class: 3 | label: cat\n",
            "No. of Training Samples: 5000\n",
            "No. of Testing Samples: 1000\n",
            "\n",
            "Class: 4 | label: deer\n",
            "No. of Training Samples: 5000\n",
            "No. of Testing Samples: 1000\n",
            "\n",
            "Class: 5 | label: dog\n",
            "No. of Training Samples: 5000\n",
            "No. of Testing Samples: 1000\n",
            "\n",
            "Class: 6 | label: frog\n",
            "No. of Training Samples: 5000\n",
            "No. of Testing Samples: 1000\n",
            "\n",
            "Class: 7 | label: horse\n",
            "No. of Training Samples: 5000\n",
            "No. of Testing Samples: 1000\n",
            "\n",
            "Class: 8 | label: ship\n",
            "No. of Training Samples: 5000\n",
            "No. of Testing Samples: 1000\n",
            "\n",
            "Class: 9 | label: truck\n",
            "No. of Training Samples: 5000\n",
            "No. of Testing Samples: 1000\n",
            "\n"
          ]
        }
      ],
      "source": [
        "for i in range(10):\n",
        "  print(\"Class: {num} | label: {lbl}\".format(num=i,lbl=cifar10_classes[i]))\n",
        "  print(\"No. of Training Samples: {x}\".format(x=np.count_nonzero(y2_train == i)))\n",
        "  print(\"No. of Testing Samples: {x}\".format(x=np.count_nonzero(y2_test == i)))\n",
        "  print()  "
      ]
    },
    {
      "cell_type": "code",
      "execution_count": null,
      "metadata": {
        "colab": {
          "base_uri": "https://localhost:8080/"
        },
        "id": "hHnXURM-SagR",
        "outputId": "005671c8-1c44-4ff9-a7e5-fabf413c64da"
      },
      "outputs": [
        {
          "output_type": "display_data",
          "data": {
            "text/plain": [
              "<Figure size 432x288 with 1 Axes>"
            ],
            "image/png": "[encoded data removed]"
          },
          "metadata": {
            "needs_background": "light"
          }
        },
        {
          "output_type": "stream",
          "name": "stdout",
          "text": [
            "\n",
            "\n"
          ]
        },
        {
          "output_type": "display_data",
          "data": {
            "text/plain": [
              "<Figure size 432x288 with 1 Axes>"
            ],
            "image/png": "[encoded data removed]"
          },
          "metadata": {
            "needs_background": "light"
          }
        },
        {
          "output_type": "stream",
          "name": "stdout",
          "text": [
            "\n",
            "\n"
          ]
        },
        {
          "output_type": "display_data",
          "data": {
            "text/plain": [
              "<Figure size 432x288 with 1 Axes>"
            ],
            "image/png": "[encoded data removed]"
          },
          "metadata": {
            "needs_background": "light"
          }
        },
        {
          "output_type": "stream",
          "name": "stdout",
          "text": [
            "\n",
            "\n"
          ]
        },
        {
          "output_type": "display_data",
          "data": {
            "text/plain": [
              "<Figure size 432x288 with 1 Axes>"
            ],
            "image/png": "[encoded data removed]"
          },
          "metadata": {
            "needs_background": "light"
          }
        },
        {
          "output_type": "stream",
          "name": "stdout",
          "text": [
            "\n",
            "\n"
          ]
        },
        {
          "output_type": "display_data",
          "data": {
            "text/plain": [
              "<Figure size 432x288 with 1 Axes>"
            ],
            "image/png": "[encoded data removed]"
          },
          "metadata": {
            "needs_background": "light"
          }
        },
        {
          "output_type": "stream",
          "name": "stdout",
          "text": [
            "\n",
            "\n"
          ]
        },
        {
          "output_type": "display_data",
          "data": {
            "text/plain": [
              "<Figure size 432x288 with 1 Axes>"
            ],
            "image/png": "[encoded data removed]"
          },
          "metadata": {
            "needs_background": "light"
          }
        },
        {
          "output_type": "stream",
          "name": "stdout",
          "text": [
            "\n",
            "\n"
          ]
        },
        {
          "output_type": "display_data",
          "data": {
            "text/plain": [
              "<Figure size 432x288 with 1 Axes>"
            ],
            "image/png": "[encoded data removed]"
          },
          "metadata": {
            "needs_background": "light"
          }
        },
        {
          "output_type": "stream",
          "name": "stdout",
          "text": [
            "\n",
            "\n"
          ]
        },
        {
          "output_type": "display_data",
          "data": {
            "text/plain": [
              "<Figure size 432x288 with 1 Axes>"
            ],
            "image/png": "[encoded data removed]"
          },
          "metadata": {
            "needs_background": "light"
          }
        },
        {
          "output_type": "stream",
          "name": "stdout",
          "text": [
            "\n",
            "\n"
          ]
        },
        {
          "output_type": "display_data",
          "data": {
            "text/plain": [
              "<Figure size 432x288 with 1 Axes>"
            ],
            "image/png": "[encoded data removed]"
          },
          "metadata": {
            "needs_background": "light"
          }
        },
        {
          "output_type": "stream",
          "name": "stdout",
          "text": [
            "\n",
            "\n"
          ]
        },
        {
          "output_type": "display_data",
          "data": {
            "text/plain": [
              "<Figure size 432x288 with 1 Axes>"
            ],
            "image/png": "[encoded data removed]"
          },
          "metadata": {
            "needs_background": "light"
          }
        },
        {
          "output_type": "stream",
          "name": "stdout",
          "text": [
            "\n",
            "\n"
          ]
        }
      ],
      "source": [
        "cl = 0;\n",
        "for i in range(150):\n",
        "  if y2_train[i]==cl:\n",
        "    plt.imshow(x2_train[i])\n",
        "    plt.title(\"Label: \"+ str(cifar10_classes[cl]))\n",
        "    plt.show()\n",
        "    print()\n",
        "    print()\n",
        "    cl = cl+1\n",
        "  if cl>10:\n",
        "    break;"
      ]
    },
    {
      "cell_type": "code",
      "execution_count": null,
      "metadata": {
        "id": "PUrNKPue796r"
      },
      "outputs": [],
      "source": [
        "x1_train = x1_train/255.0\n",
        "x1_test = x1_test/255.0\n",
        "\n",
        "x2_train = x2_train/255.0\n",
        "x2_test = x2_test/255.0"
      ]
    },
    {
      "cell_type": "markdown",
      "metadata": {
        "id": "rc93FE0FCLFU"
      },
      "source": [
        "# CNN Architecture 1"
      ]
    },
    {
      "cell_type": "code",
      "execution_count": null,
      "metadata": {
        "id": "X4SIoWkT8Irr"
      },
      "outputs": [],
      "source": [
        "model1a = tf.keras.Sequential()\n",
        "model1a.add(tf.keras.Input(shape=(28,28,1)))\n",
        "model1a.add(tf.keras.layers.Conv2D(32, kernel_size=(5,5), strides=1, padding=\"valid\", activation = \"relu\"))\n",
        "model1a.add(tf.keras.layers.MaxPooling2D(pool_size=(2,2)))\n",
        "model1a.add(tf.keras.layers.Flatten())\n",
        "model1a.add(tf.keras.layers.Dense(100,activation=\"relu\", name=\"hiddenLayer1\"))\n",
        "model1a.add(tf.keras.layers.Dense(10,activation=\"softmax\", name=\"outputLayer\"))"
      ]
    },
    {
      "cell_type": "code",
      "execution_count": null,
      "metadata": {
        "colab": {
          "base_uri": "https://localhost:8080/"
        },
        "id": "3FDgYyxH9qb8",
        "outputId": "5da36c54-205b-4df5-8b98-b512bc8ebf52"
      },
      "outputs": [
        {
          "name": "stdout",
          "output_type": "stream",
          "text": [
            "Model: \"sequential\"\n",
            "_________________________________________________________________\n",
            " Layer (type)                Output Shape              Param #   \n",
            "=================================================================\n",
            " conv2d (Conv2D)             (None, 24, 24, 32)        832       \n",
            "                                                                 \n",
            " max_pooling2d (MaxPooling2D  (None, 12, 12, 32)       0         \n",
            " )                                                               \n",
            "                                                                 \n",
            " flatten (Flatten)           (None, 4608)              0         \n",
            "                                                                 \n",
            " hiddenLayer1 (Dense)        (None, 100)               460900    \n",
            "                                                                 \n",
            " outputLayer (Dense)         (None, 10)                1010      \n",
            "                                                                 \n",
            "=================================================================\n",
            "Total params: 462,742\n",
            "Trainable params: 462,742\n",
            "Non-trainable params: 0\n",
            "_________________________________________________________________\n"
          ]
        }
      ],
      "source": [
        "model1a.summary()"
      ]
    },
    {
      "cell_type": "code",
      "execution_count": null,
      "metadata": {
        "colab": {
          "base_uri": "https://localhost:8080/"
        },
        "id": "322Lxp4e968l",
        "outputId": "63b7a3ff-2b98-46f1-acb3-3c34951271cf"
      },
      "outputs": [
        {
          "name": "stdout",
          "output_type": "stream",
          "text": [
            "Epoch 1/15\n",
            "1688/1688 [==============================] - 14s 5ms/step - loss: 0.1465 - accuracy: 0.9557 - val_loss: 0.0545 - val_accuracy: 0.9852\n",
            "Epoch 2/15\n",
            "1688/1688 [==============================] - 6s 3ms/step - loss: 0.0488 - accuracy: 0.9851 - val_loss: 0.0474 - val_accuracy: 0.9858\n",
            "Epoch 3/15\n",
            "1688/1688 [==============================] - 6s 3ms/step - loss: 0.0337 - accuracy: 0.9893 - val_loss: 0.0391 - val_accuracy: 0.9892\n",
            "Epoch 4/15\n",
            "1688/1688 [==============================] - 6s 3ms/step - loss: 0.0239 - accuracy: 0.9921 - val_loss: 0.0420 - val_accuracy: 0.9880\n",
            "Epoch 5/15\n",
            "1688/1688 [==============================] - 6s 3ms/step - loss: 0.0158 - accuracy: 0.9950 - val_loss: 0.0438 - val_accuracy: 0.9892\n",
            "Epoch 6/15\n",
            "1688/1688 [==============================] - 6s 4ms/step - loss: 0.0130 - accuracy: 0.9958 - val_loss: 0.0479 - val_accuracy: 0.9880\n",
            "Epoch 7/15\n",
            "1688/1688 [==============================] - 6s 3ms/step - loss: 0.0090 - accuracy: 0.9967 - val_loss: 0.0403 - val_accuracy: 0.9902\n",
            "Epoch 8/15\n",
            "1688/1688 [==============================] - 6s 3ms/step - loss: 0.0079 - accuracy: 0.9973 - val_loss: 0.0586 - val_accuracy: 0.9902\n",
            "Epoch 9/15\n",
            "1688/1688 [==============================] - 6s 3ms/step - loss: 0.0078 - accuracy: 0.9973 - val_loss: 0.0453 - val_accuracy: 0.9907\n",
            "Epoch 10/15\n",
            "1688/1688 [==============================] - 6s 3ms/step - loss: 0.0058 - accuracy: 0.9980 - val_loss: 0.0659 - val_accuracy: 0.9882\n",
            "Epoch 11/15\n",
            "1688/1688 [==============================] - 6s 3ms/step - loss: 0.0048 - accuracy: 0.9983 - val_loss: 0.0544 - val_accuracy: 0.9892\n",
            "Epoch 12/15\n",
            "1688/1688 [==============================] - 6s 3ms/step - loss: 0.0052 - accuracy: 0.9983 - val_loss: 0.0542 - val_accuracy: 0.9903\n",
            "Epoch 13/15\n",
            "1688/1688 [==============================] - 6s 4ms/step - loss: 0.0039 - accuracy: 0.9988 - val_loss: 0.0560 - val_accuracy: 0.9892\n",
            "Epoch 14/15\n",
            "1688/1688 [==============================] - 6s 3ms/step - loss: 0.0040 - accuracy: 0.9986 - val_loss: 0.0816 - val_accuracy: 0.9862\n",
            "Epoch 15/15\n",
            "1688/1688 [==============================] - 6s 3ms/step - loss: 0.0039 - accuracy: 0.9990 - val_loss: 0.0563 - val_accuracy: 0.9902\n"
          ]
        }
      ],
      "source": [
        "model1a.compile(optimizer=\"adam\",\n",
        "                loss=\"sparse_categorical_crossentropy\",\n",
        "                metrics=[\"accuracy\"])\n",
        "\n",
        "history1a = model1a.fit(x1_train, y1_train, epochs=15, validation_split=0.1)"
      ]
    },
    {
      "cell_type": "code",
      "execution_count": null,
      "metadata": {
        "colab": {
          "base_uri": "https://localhost:8080/"
        },
        "id": "jUHux5eaXQVQ",
        "outputId": "9fda648a-0ba2-444f-9433-896e1f31acb3"
      },
      "outputs": [
        {
          "name": "stdout",
          "output_type": "stream",
          "text": [
            "313/313 [==============================] - 1s 2ms/step - loss: 0.0563 - accuracy: 0.9877\n"
          ]
        }
      ],
      "source": [
        "test_loss1a, test_acc1a = model1a.evaluate(x1_test, y1_test)"
      ]
    },
    {
      "cell_type": "code",
      "execution_count": null,
      "metadata": {
        "id": "S-oVMwS1CwXs"
      },
      "outputs": [],
      "source": [
        "model1b = tf.keras.Sequential()\n",
        "model1b.add(tf.keras.Input(shape=(32,32,3)))\n",
        "model1b.add(tf.keras.layers.Conv2D(32, kernel_size=(5,5), strides=1, padding=\"valid\", activation = \"relu\"))\n",
        "model1b.add(tf.keras.layers.MaxPooling2D(pool_size=(2,2)))\n",
        "model1b.add(tf.keras.layers.Flatten())\n",
        "model1b.add(tf.keras.layers.Dense(100,activation=\"relu\", name=\"hiddenLayer1\"))\n",
        "model1b.add(tf.keras.layers.Dense(10,activation=\"softmax\", name=\"outputLayer\"))"
      ]
    },
    {
      "cell_type": "code",
      "execution_count": null,
      "metadata": {
        "colab": {
          "base_uri": "https://localhost:8080/"
        },
        "id": "YxEFFpFiC6yL",
        "outputId": "9bdc0f4c-7944-4e5f-d320-7ed0067678ca"
      },
      "outputs": [
        {
          "name": "stdout",
          "output_type": "stream",
          "text": [
            "Model: \"sequential_1\"\n",
            "_________________________________________________________________\n",
            " Layer (type)                Output Shape              Param #   \n",
            "=================================================================\n",
            " conv2d_1 (Conv2D)           (None, 28, 28, 32)        2432      \n",
            "                                                                 \n",
            " max_pooling2d_1 (MaxPooling  (None, 14, 14, 32)       0         \n",
            " 2D)                                                             \n",
            "                                                                 \n",
            " flatten_1 (Flatten)         (None, 6272)              0         \n",
            "                                                                 \n",
            " hiddenLayer1 (Dense)        (None, 100)               627300    \n",
            "                                                                 \n",
            " outputLayer (Dense)         (None, 10)                1010      \n",
            "                                                                 \n",
            "=================================================================\n",
            "Total params: 630,742\n",
            "Trainable params: 630,742\n",
            "Non-trainable params: 0\n",
            "_________________________________________________________________\n"
          ]
        }
      ],
      "source": [
        "model1b.summary()"
      ]
    },
    {
      "cell_type": "code",
      "execution_count": null,
      "metadata": {
        "colab": {
          "base_uri": "https://localhost:8080/"
        },
        "id": "gLQQDJ6GDCcK",
        "outputId": "3a5b2ae2-91f6-433b-8a51-3146708d18b9"
      },
      "outputs": [
        {
          "name": "stdout",
          "output_type": "stream",
          "text": [
            "Epoch 1/15\n",
            "1407/1407 [==============================] - 6s 4ms/step - loss: 1.5050 - accuracy: 0.4634 - val_loss: 1.3066 - val_accuracy: 0.5428\n",
            "Epoch 2/15\n",
            "1407/1407 [==============================] - 5s 4ms/step - loss: 1.2007 - accuracy: 0.5770 - val_loss: 1.1388 - val_accuracy: 0.5954\n",
            "Epoch 3/15\n",
            "1407/1407 [==============================] - 5s 4ms/step - loss: 1.0636 - accuracy: 0.6297 - val_loss: 1.1638 - val_accuracy: 0.6004\n",
            "Epoch 4/15\n",
            "1407/1407 [==============================] - 5s 4ms/step - loss: 0.9652 - accuracy: 0.6639 - val_loss: 1.0503 - val_accuracy: 0.6376\n",
            "Epoch 5/15\n",
            "1407/1407 [==============================] - 5s 4ms/step - loss: 0.8876 - accuracy: 0.6878 - val_loss: 1.0674 - val_accuracy: 0.6450\n",
            "Epoch 6/15\n",
            "1407/1407 [==============================] - 6s 4ms/step - loss: 0.8159 - accuracy: 0.7152 - val_loss: 1.0837 - val_accuracy: 0.6524\n",
            "Epoch 7/15\n",
            "1407/1407 [==============================] - 6s 4ms/step - loss: 0.7572 - accuracy: 0.7336 - val_loss: 1.0515 - val_accuracy: 0.6572\n",
            "Epoch 8/15\n",
            "1407/1407 [==============================] - 5s 4ms/step - loss: 0.6874 - accuracy: 0.7597 - val_loss: 1.0944 - val_accuracy: 0.6530\n",
            "Epoch 9/15\n",
            "1407/1407 [==============================] - 5s 4ms/step - loss: 0.6287 - accuracy: 0.7766 - val_loss: 1.1559 - val_accuracy: 0.6404\n",
            "Epoch 10/15\n",
            "1407/1407 [==============================] - 5s 4ms/step - loss: 0.5758 - accuracy: 0.7962 - val_loss: 1.1667 - val_accuracy: 0.6502\n",
            "Epoch 11/15\n",
            "1407/1407 [==============================] - 5s 4ms/step - loss: 0.5167 - accuracy: 0.8183 - val_loss: 1.2031 - val_accuracy: 0.6486\n",
            "Epoch 12/15\n",
            "1407/1407 [==============================] - 5s 4ms/step - loss: 0.4574 - accuracy: 0.8393 - val_loss: 1.3014 - val_accuracy: 0.6308\n",
            "Epoch 13/15\n",
            "1407/1407 [==============================] - 5s 4ms/step - loss: 0.4150 - accuracy: 0.8543 - val_loss: 1.3808 - val_accuracy: 0.6334\n",
            "Epoch 14/15\n",
            "1407/1407 [==============================] - 5s 4ms/step - loss: 0.3693 - accuracy: 0.8702 - val_loss: 1.5112 - val_accuracy: 0.6290\n",
            "Epoch 15/15\n",
            "1407/1407 [==============================] - 5s 4ms/step - loss: 0.3287 - accuracy: 0.8870 - val_loss: 1.5907 - val_accuracy: 0.6340\n"
          ]
        }
      ],
      "source": [
        "model1b.compile(optimizer=\"adam\",\n",
        "                loss=\"sparse_categorical_crossentropy\",\n",
        "                metrics=[\"accuracy\"])\n",
        "\n",
        "history1b = model1b.fit(x2_train, y2_train, epochs=15, validation_split=0.1)"
      ]
    },
    {
      "cell_type": "code",
      "execution_count": null,
      "metadata": {
        "colab": {
          "base_uri": "https://localhost:8080/"
        },
        "id": "yuBh6-DVXF4G",
        "outputId": "155b0241-609a-4ffc-8bcb-7b255cc03f9c"
      },
      "outputs": [
        {
          "name": "stdout",
          "output_type": "stream",
          "text": [
            "313/313 [==============================] - 1s 3ms/step - loss: 1.6727 - accuracy: 0.6195\n"
          ]
        }
      ],
      "source": [
        "test_loss1b, test_acc1b = model1b.evaluate(x2_test, y2_test)"
      ]
    },
    {
      "cell_type": "markdown",
      "metadata": {
        "id": "w8jy-OeACQxT"
      },
      "source": [
        "# CNN Architecture 2"
      ]
    },
    {
      "cell_type": "code",
      "execution_count": null,
      "metadata": {
        "id": "bnjWvx8y-FKj"
      },
      "outputs": [],
      "source": [
        "model2a = tf.keras.Sequential()\n",
        "model2a.add(tf.keras.Input(shape=(28,28,1)))\n",
        "model2a.add(tf.keras.layers.Conv2D(32, kernel_size=(3,3), strides=1, padding=\"valid\", activation = \"relu\"))\n",
        "model2a.add(tf.keras.layers.Conv2D(32, kernel_size=(3,3), strides=1, padding=\"valid\", activation = \"relu\"))\n",
        "model2a.add(tf.keras.layers.MaxPooling2D(pool_size=(2,2)))\n",
        "model2a.add(tf.keras.layers.Flatten())\n",
        "model2a.add(tf.keras.layers.Dense(100,activation=\"relu\", name=\"hiddenLayer1\"))\n",
        "model2a.add(tf.keras.layers.Dense(10,activation=\"softmax\", name=\"outputLayer\"))"
      ]
    },
    {
      "cell_type": "code",
      "execution_count": null,
      "metadata": {
        "colab": {
          "base_uri": "https://localhost:8080/"
        },
        "id": "53MliDz0-sHz",
        "outputId": "8f09f0cf-a721-4a45-88cb-f90c6b313a1e"
      },
      "outputs": [
        {
          "name": "stdout",
          "output_type": "stream",
          "text": [
            "Model: \"sequential_2\"\n",
            "_________________________________________________________________\n",
            " Layer (type)                Output Shape              Param #   \n",
            "=================================================================\n",
            " conv2d_2 (Conv2D)           (None, 26, 26, 32)        320       \n",
            "                                                                 \n",
            " conv2d_3 (Conv2D)           (None, 24, 24, 32)        9248      \n",
            "                                                                 \n",
            " max_pooling2d_2 (MaxPooling  (None, 12, 12, 32)       0         \n",
            " 2D)                                                             \n",
            "                                                                 \n",
            " flatten_2 (Flatten)         (None, 4608)              0         \n",
            "                                                                 \n",
            " hiddenLayer1 (Dense)        (None, 100)               460900    \n",
            "                                                                 \n",
            " outputLayer (Dense)         (None, 10)                1010      \n",
            "                                                                 \n",
            "=================================================================\n",
            "Total params: 471,478\n",
            "Trainable params: 471,478\n",
            "Non-trainable params: 0\n",
            "_________________________________________________________________\n"
          ]
        }
      ],
      "source": [
        "model2a.summary()"
      ]
    },
    {
      "cell_type": "code",
      "execution_count": null,
      "metadata": {
        "colab": {
          "base_uri": "https://localhost:8080/"
        },
        "id": "TvkI5lrE--Oc",
        "outputId": "667ec9fc-1869-444b-e05e-b554492437db"
      },
      "outputs": [
        {
          "name": "stdout",
          "output_type": "stream",
          "text": [
            "Epoch 1/15\n",
            "1688/1688 [==============================] - 7s 4ms/step - loss: 0.1322 - accuracy: 0.9598 - val_loss: 0.0549 - val_accuracy: 0.9858\n",
            "Epoch 2/15\n",
            "1688/1688 [==============================] - 6s 4ms/step - loss: 0.0419 - accuracy: 0.9866 - val_loss: 0.0453 - val_accuracy: 0.9882\n",
            "Epoch 3/15\n",
            "1688/1688 [==============================] - 7s 4ms/step - loss: 0.0264 - accuracy: 0.9914 - val_loss: 0.0514 - val_accuracy: 0.9863\n",
            "Epoch 4/15\n",
            "1688/1688 [==============================] - 9s 6ms/step - loss: 0.0184 - accuracy: 0.9941 - val_loss: 0.0444 - val_accuracy: 0.9895\n",
            "Epoch 5/15\n",
            "1688/1688 [==============================] - 6s 4ms/step - loss: 0.0135 - accuracy: 0.9956 - val_loss: 0.0431 - val_accuracy: 0.9915\n",
            "Epoch 6/15\n",
            "1688/1688 [==============================] - 6s 4ms/step - loss: 0.0108 - accuracy: 0.9964 - val_loss: 0.0384 - val_accuracy: 0.9907\n",
            "Epoch 7/15\n",
            "1688/1688 [==============================] - 6s 4ms/step - loss: 0.0086 - accuracy: 0.9969 - val_loss: 0.0547 - val_accuracy: 0.9900\n",
            "Epoch 8/15\n",
            "1688/1688 [==============================] - 6s 4ms/step - loss: 0.0074 - accuracy: 0.9974 - val_loss: 0.0492 - val_accuracy: 0.9892\n",
            "Epoch 9/15\n",
            "1688/1688 [==============================] - 6s 4ms/step - loss: 0.0056 - accuracy: 0.9981 - val_loss: 0.0529 - val_accuracy: 0.9900\n",
            "Epoch 10/15\n",
            "1688/1688 [==============================] - 6s 4ms/step - loss: 0.0058 - accuracy: 0.9979 - val_loss: 0.0565 - val_accuracy: 0.9905\n",
            "Epoch 11/15\n",
            "1688/1688 [==============================] - 6s 4ms/step - loss: 0.0050 - accuracy: 0.9983 - val_loss: 0.0575 - val_accuracy: 0.9908\n",
            "Epoch 12/15\n",
            "1688/1688 [==============================] - 6s 4ms/step - loss: 0.0039 - accuracy: 0.9986 - val_loss: 0.0739 - val_accuracy: 0.9900\n",
            "Epoch 13/15\n",
            "1688/1688 [==============================] - 7s 4ms/step - loss: 0.0047 - accuracy: 0.9985 - val_loss: 0.0497 - val_accuracy: 0.9923\n",
            "Epoch 14/15\n",
            "1688/1688 [==============================] - 6s 4ms/step - loss: 0.0039 - accuracy: 0.9987 - val_loss: 0.0652 - val_accuracy: 0.9912\n",
            "Epoch 15/15\n",
            "1688/1688 [==============================] - 7s 4ms/step - loss: 0.0047 - accuracy: 0.9985 - val_loss: 0.0560 - val_accuracy: 0.9905\n"
          ]
        }
      ],
      "source": [
        "model2a.compile(optimizer=\"adam\",\n",
        "                loss=\"sparse_categorical_crossentropy\",\n",
        "                metrics=[\"accuracy\"])\n",
        "\n",
        "history2a = model2a.fit(x1_train, y1_train,  epochs=15, validation_split=0.1)"
      ]
    },
    {
      "cell_type": "code",
      "execution_count": null,
      "metadata": {
        "colab": {
          "base_uri": "https://localhost:8080/"
        },
        "id": "0q1S_CasXBLQ",
        "outputId": "56e36174-9eb8-4708-dea5-7b52abcf88f0"
      },
      "outputs": [
        {
          "name": "stdout",
          "output_type": "stream",
          "text": [
            "313/313 [==============================] - 1s 3ms/step - loss: 0.0597 - accuracy: 0.9882\n"
          ]
        }
      ],
      "source": [
        "test_loss2a, test_acc2a = model2a.evaluate(x1_test, y1_test)"
      ]
    },
    {
      "cell_type": "code",
      "execution_count": null,
      "metadata": {
        "id": "dk_J0MUZDgGi"
      },
      "outputs": [],
      "source": [
        "model2b = tf.keras.Sequential()\n",
        "model2b.add(tf.keras.Input(shape=(32,32,3)))\n",
        "model2b.add(tf.keras.layers.Conv2D(32, kernel_size=(3,3), strides=1, padding=\"valid\", activation = \"relu\"))\n",
        "model2b.add(tf.keras.layers.Conv2D(32, kernel_size=(3,3), strides=1, padding=\"valid\", activation = \"relu\"))\n",
        "model2b.add(tf.keras.layers.MaxPooling2D(pool_size=(2,2)))\n",
        "model2b.add(tf.keras.layers.Flatten())\n",
        "model2b.add(tf.keras.layers.Dense(100,activation=\"relu\", name=\"hiddenLayer1\"))\n",
        "model2b.add(tf.keras.layers.Dense(10,activation=\"softmax\", name=\"outputLayer\"))"
      ]
    },
    {
      "cell_type": "code",
      "execution_count": null,
      "metadata": {
        "colab": {
          "base_uri": "https://localhost:8080/"
        },
        "id": "rXIHzzy2DpWx",
        "outputId": "b378eecc-bb47-4a59-ed34-9496d35bc7d2"
      },
      "outputs": [
        {
          "name": "stdout",
          "output_type": "stream",
          "text": [
            "Model: \"sequential_3\"\n",
            "_________________________________________________________________\n",
            " Layer (type)                Output Shape              Param #   \n",
            "=================================================================\n",
            " conv2d_4 (Conv2D)           (None, 30, 30, 32)        896       \n",
            "                                                                 \n",
            " conv2d_5 (Conv2D)           (None, 28, 28, 32)        9248      \n",
            "                                                                 \n",
            " max_pooling2d_3 (MaxPooling  (None, 14, 14, 32)       0         \n",
            " 2D)                                                             \n",
            "                                                                 \n",
            " flatten_3 (Flatten)         (None, 6272)              0         \n",
            "                                                                 \n",
            " hiddenLayer1 (Dense)        (None, 100)               627300    \n",
            "                                                                 \n",
            " outputLayer (Dense)         (None, 10)                1010      \n",
            "                                                                 \n",
            "=================================================================\n",
            "Total params: 638,454\n",
            "Trainable params: 638,454\n",
            "Non-trainable params: 0\n",
            "_________________________________________________________________\n"
          ]
        }
      ],
      "source": [
        "model2b.summary()"
      ]
    },
    {
      "cell_type": "code",
      "execution_count": null,
      "metadata": {
        "colab": {
          "base_uri": "https://localhost:8080/"
        },
        "id": "Bc6ZsBvuDthK",
        "outputId": "99cea76f-128a-45d6-e533-649b5d07243e"
      },
      "outputs": [
        {
          "name": "stdout",
          "output_type": "stream",
          "text": [
            "Epoch 1/15\n",
            "1407/1407 [==============================] - 6s 4ms/step - loss: 1.3954 - accuracy: 0.5003 - val_loss: 1.1085 - val_accuracy: 0.6162\n",
            "Epoch 2/15\n",
            "1407/1407 [==============================] - 6s 4ms/step - loss: 1.0445 - accuracy: 0.6335 - val_loss: 1.0095 - val_accuracy: 0.6520\n",
            "Epoch 3/15\n",
            "1407/1407 [==============================] - 5s 4ms/step - loss: 0.9125 - accuracy: 0.6792 - val_loss: 0.9921 - val_accuracy: 0.6516\n",
            "Epoch 4/15\n",
            "1407/1407 [==============================] - 5s 4ms/step - loss: 0.8043 - accuracy: 0.7184 - val_loss: 0.9405 - val_accuracy: 0.6836\n",
            "Epoch 5/15\n",
            "1407/1407 [==============================] - 5s 4ms/step - loss: 0.7036 - accuracy: 0.7533 - val_loss: 0.9952 - val_accuracy: 0.6606\n",
            "Epoch 6/15\n",
            "1407/1407 [==============================] - 6s 4ms/step - loss: 0.6154 - accuracy: 0.7846 - val_loss: 1.0260 - val_accuracy: 0.6678\n",
            "Epoch 7/15\n",
            "1407/1407 [==============================] - 5s 4ms/step - loss: 0.5264 - accuracy: 0.8152 - val_loss: 1.0827 - val_accuracy: 0.6696\n",
            "Epoch 8/15\n",
            "1407/1407 [==============================] - 6s 4ms/step - loss: 0.4476 - accuracy: 0.8416 - val_loss: 1.2080 - val_accuracy: 0.6584\n",
            "Epoch 9/15\n",
            "1407/1407 [==============================] - 5s 4ms/step - loss: 0.3724 - accuracy: 0.8682 - val_loss: 1.2602 - val_accuracy: 0.6624\n",
            "Epoch 10/15\n",
            "1407/1407 [==============================] - 5s 4ms/step - loss: 0.3066 - accuracy: 0.8924 - val_loss: 1.4035 - val_accuracy: 0.6462\n",
            "Epoch 11/15\n",
            "1407/1407 [==============================] - 6s 4ms/step - loss: 0.2516 - accuracy: 0.9133 - val_loss: 1.5945 - val_accuracy: 0.6546\n",
            "Epoch 12/15\n",
            "1407/1407 [==============================] - 6s 4ms/step - loss: 0.2005 - accuracy: 0.9302 - val_loss: 1.7768 - val_accuracy: 0.6414\n",
            "Epoch 13/15\n",
            "1407/1407 [==============================] - 6s 4ms/step - loss: 0.1695 - accuracy: 0.9422 - val_loss: 1.9430 - val_accuracy: 0.6472\n",
            "Epoch 14/15\n",
            "1407/1407 [==============================] - 5s 4ms/step - loss: 0.1454 - accuracy: 0.9496 - val_loss: 2.0551 - val_accuracy: 0.6394\n",
            "Epoch 15/15\n",
            "1407/1407 [==============================] - 5s 4ms/step - loss: 0.1238 - accuracy: 0.9572 - val_loss: 2.3588 - val_accuracy: 0.6332\n"
          ]
        }
      ],
      "source": [
        "model2b.compile(optimizer=\"adam\",\n",
        "                loss=\"sparse_categorical_crossentropy\",\n",
        "                metrics=[\"accuracy\"])\n",
        "\n",
        "history2b = model2b.fit(x2_train, y2_train, epochs=15, validation_split=0.1)"
      ]
    },
    {
      "cell_type": "code",
      "execution_count": null,
      "metadata": {
        "colab": {
          "base_uri": "https://localhost:8080/"
        },
        "id": "-feRBbAwLHxq",
        "outputId": "a280999f-4274-4e5e-ea79-563aacadb10d"
      },
      "outputs": [
        {
          "name": "stdout",
          "output_type": "stream",
          "text": [
            "313/313 [==============================] - 1s 3ms/step - loss: 2.4362 - accuracy: 0.6291\n"
          ]
        }
      ],
      "source": [
        "test_loss2b, test_acc2b = model2b.evaluate(x2_test, y2_test)"
      ]
    },
    {
      "cell_type": "markdown",
      "metadata": {
        "id": "BE_FrUXZCV6q"
      },
      "source": [
        "# LeNet-5 Architecture"
      ]
    },
    {
      "cell_type": "code",
      "execution_count": null,
      "metadata": {
        "id": "ONn9c_Mb_K5k"
      },
      "outputs": [],
      "source": [
        "model3a = tf.keras.Sequential()\n",
        "model3a.add(tf.keras.Input(shape=(28,28,1)))\n",
        "model3a.add(tf.keras.layers.Conv2D(6, kernel_size=(5,5), strides=1, padding=\"same\", activation = \"tanh\"))\n",
        "model3a.add(tf.keras.layers.MaxPooling2D(pool_size=(2,2), strides=2, padding=\"valid\"))\n",
        "model3a.add(tf.keras.layers.Conv2D(16, kernel_size=(5,5), strides=1, padding=\"valid\", activation = \"tanh\"))\n",
        "model3a.add(tf.keras.layers.MaxPooling2D(pool_size=(2,2), strides=2, padding=\"valid\"))\n",
        "model3a.add(tf.keras.layers.Flatten())\n",
        "model3a.add(tf.keras.layers.Dense(120,activation=\"sigmoid\", name=\"hiddenLayer1\"))\n",
        "model3a.add(tf.keras.layers.Dense(84,activation=\"sigmoid\", name=\"hiddenLayer2\"))\n",
        "model3a.add(tf.keras.layers.Dense(10,activation=\"softmax\", name=\"outputLayer\"))"
      ]
    },
    {
      "cell_type": "code",
      "execution_count": null,
      "metadata": {
        "colab": {
          "base_uri": "https://localhost:8080/"
        },
        "id": "LdW3DnS4BUAc",
        "outputId": "0566f493-7d4d-4ccc-cf59-8b5ddc251752"
      },
      "outputs": [
        {
          "name": "stdout",
          "output_type": "stream",
          "text": [
            "Model: \"sequential_4\"\n",
            "_________________________________________________________________\n",
            " Layer (type)                Output Shape              Param #   \n",
            "=================================================================\n",
            " conv2d_6 (Conv2D)           (None, 28, 28, 6)         156       \n",
            "                                                                 \n",
            " max_pooling2d_4 (MaxPooling  (None, 14, 14, 6)        0         \n",
            " 2D)                                                             \n",
            "                                                                 \n",
            " conv2d_7 (Conv2D)           (None, 10, 10, 16)        2416      \n",
            "                                                                 \n",
            " max_pooling2d_5 (MaxPooling  (None, 5, 5, 16)         0         \n",
            " 2D)                                                             \n",
            "                                                                 \n",
            " flatten_4 (Flatten)         (None, 400)               0         \n",
            "                                                                 \n",
            " hiddenLayer1 (Dense)        (None, 120)               48120     \n",
            "                                                                 \n",
            " hiddenLayer2 (Dense)        (None, 84)                10164     \n",
            "                                                                 \n",
            " outputLayer (Dense)         (None, 10)                850       \n",
            "                                                                 \n",
            "=================================================================\n",
            "Total params: 61,706\n",
            "Trainable params: 61,706\n",
            "Non-trainable params: 0\n",
            "_________________________________________________________________\n"
          ]
        }
      ],
      "source": [
        "model3a.summary()"
      ]
    },
    {
      "cell_type": "code",
      "execution_count": null,
      "metadata": {
        "colab": {
          "base_uri": "https://localhost:8080/"
        },
        "id": "iGsBhyw2BVsK",
        "outputId": "4d5cd6b7-6539-429e-94a3-49714676e85f"
      },
      "outputs": [
        {
          "name": "stdout",
          "output_type": "stream",
          "text": [
            "Epoch 1/15\n",
            "1688/1688 [==============================] - 7s 4ms/step - loss: 0.3011 - accuracy: 0.9229 - val_loss: 0.0724 - val_accuracy: 0.9795\n",
            "Epoch 2/15\n",
            "1688/1688 [==============================] - 6s 3ms/step - loss: 0.0672 - accuracy: 0.9801 - val_loss: 0.0522 - val_accuracy: 0.9850\n",
            "Epoch 3/15\n",
            "1688/1688 [==============================] - 6s 3ms/step - loss: 0.0463 - accuracy: 0.9860 - val_loss: 0.0455 - val_accuracy: 0.9863\n",
            "Epoch 4/15\n",
            "1688/1688 [==============================] - 6s 3ms/step - loss: 0.0356 - accuracy: 0.9895 - val_loss: 0.0427 - val_accuracy: 0.9853\n",
            "Epoch 5/15\n",
            "1688/1688 [==============================] - 6s 4ms/step - loss: 0.0279 - accuracy: 0.9916 - val_loss: 0.0461 - val_accuracy: 0.9880\n",
            "Epoch 6/15\n",
            "1688/1688 [==============================] - 6s 4ms/step - loss: 0.0230 - accuracy: 0.9926 - val_loss: 0.0542 - val_accuracy: 0.9845\n",
            "Epoch 7/15\n",
            "1688/1688 [==============================] - 6s 4ms/step - loss: 0.0191 - accuracy: 0.9937 - val_loss: 0.0412 - val_accuracy: 0.9872\n",
            "Epoch 8/15\n",
            "1688/1688 [==============================] - 6s 3ms/step - loss: 0.0150 - accuracy: 0.9956 - val_loss: 0.0473 - val_accuracy: 0.9873\n",
            "Epoch 9/15\n",
            "1688/1688 [==============================] - 6s 3ms/step - loss: 0.0123 - accuracy: 0.9962 - val_loss: 0.0436 - val_accuracy: 0.9883\n",
            "Epoch 10/15\n",
            "1688/1688 [==============================] - 6s 3ms/step - loss: 0.0105 - accuracy: 0.9968 - val_loss: 0.0528 - val_accuracy: 0.9853\n",
            "Epoch 11/15\n",
            "1688/1688 [==============================] - 6s 3ms/step - loss: 0.0084 - accuracy: 0.9975 - val_loss: 0.0528 - val_accuracy: 0.9867\n",
            "Epoch 12/15\n",
            "1688/1688 [==============================] - 6s 4ms/step - loss: 0.0079 - accuracy: 0.9973 - val_loss: 0.0417 - val_accuracy: 0.9900\n",
            "Epoch 13/15\n",
            "1688/1688 [==============================] - 6s 3ms/step - loss: 0.0063 - accuracy: 0.9982 - val_loss: 0.0486 - val_accuracy: 0.9867\n",
            "Epoch 14/15\n",
            "1688/1688 [==============================] - 6s 3ms/step - loss: 0.0055 - accuracy: 0.9985 - val_loss: 0.0541 - val_accuracy: 0.9877\n",
            "Epoch 15/15\n",
            "1688/1688 [==============================] - 6s 3ms/step - loss: 0.0057 - accuracy: 0.9981 - val_loss: 0.0583 - val_accuracy: 0.9867\n"
          ]
        }
      ],
      "source": [
        "model3a.compile(optimizer=\"adam\",\n",
        "                loss=\"sparse_categorical_crossentropy\",\n",
        "                metrics=[\"accuracy\"])\n",
        "\n",
        "history3 = model3a.fit(x1_train, y1_train, epochs=15, validation_split=0.1)"
      ]
    },
    {
      "cell_type": "code",
      "execution_count": null,
      "metadata": {
        "colab": {
          "base_uri": "https://localhost:8080/"
        },
        "id": "2K16eFjxX8BP",
        "outputId": "f4a54e0f-55a6-4225-9e4a-5369c6ea3371"
      },
      "outputs": [
        {
          "name": "stdout",
          "output_type": "stream",
          "text": [
            "313/313 [==============================] - 1s 2ms/step - loss: 0.0471 - accuracy: 0.9883\n"
          ]
        }
      ],
      "source": [
        "test_loss3a, test_acc3a = model3a.evaluate(x1_test, y1_test)"
      ]
    },
    {
      "cell_type": "code",
      "execution_count": null,
      "metadata": {
        "id": "naEsqSivEsVr"
      },
      "outputs": [],
      "source": [
        "model3b = tf.keras.Sequential()\n",
        "model3b.add(tf.keras.Input(shape=(32,32,3)))\n",
        "model3b.add(tf.keras.layers.Conv2D(6, kernel_size=(5,5), strides=1, padding=\"same\", activation = tf.keras.activations.tanh))\n",
        "model3b.add(tf.keras.layers.MaxPooling2D(pool_size=(2,2), strides=2, padding=\"valid\"))\n",
        "model3b.add(tf.keras.layers.Conv2D(16, kernel_size=(5,5), strides=1, padding=\"valid\", activation = tf.keras.activations.tanh))\n",
        "model3b.add(tf.keras.layers.MaxPooling2D(pool_size=(2,2), strides=2, padding=\"valid\"))\n",
        "model3b.add(tf.keras.layers.Flatten())\n",
        "model3b.add(tf.keras.layers.Dense(120,activation=\"sigmoid\", name=\"hiddenLayer1\"))\n",
        "model3b.add(tf.keras.layers.Dense(84,activation=\"sigmoid\", name=\"hiddenLayer2\"))\n",
        "model3b.add(tf.keras.layers.Dense(10,activation=\"softmax\", name=\"outputLayer\"))"
      ]
    },
    {
      "cell_type": "code",
      "execution_count": null,
      "metadata": {
        "colab": {
          "base_uri": "https://localhost:8080/"
        },
        "id": "p3MSrQywE9-C",
        "outputId": "bb10d7c9-93ed-48ee-dd16-b02bc9c7ed5b"
      },
      "outputs": [
        {
          "name": "stdout",
          "output_type": "stream",
          "text": [
            "Model: \"sequential_5\"\n",
            "_________________________________________________________________\n",
            " Layer (type)                Output Shape              Param #   \n",
            "=================================================================\n",
            " conv2d_8 (Conv2D)           (None, 32, 32, 6)         456       \n",
            "                                                                 \n",
            " max_pooling2d_6 (MaxPooling  (None, 16, 16, 6)        0         \n",
            " 2D)                                                             \n",
            "                                                                 \n",
            " conv2d_9 (Conv2D)           (None, 12, 12, 16)        2416      \n",
            "                                                                 \n",
            " max_pooling2d_7 (MaxPooling  (None, 6, 6, 16)         0         \n",
            " 2D)                                                             \n",
            "                                                                 \n",
            " flatten_5 (Flatten)         (None, 576)               0         \n",
            "                                                                 \n",
            " hiddenLayer1 (Dense)        (None, 120)               69240     \n",
            "                                                                 \n",
            " hiddenLayer2 (Dense)        (None, 84)                10164     \n",
            "                                                                 \n",
            " outputLayer (Dense)         (None, 10)                850       \n",
            "                                                                 \n",
            "=================================================================\n",
            "Total params: 83,126\n",
            "Trainable params: 83,126\n",
            "Non-trainable params: 0\n",
            "_________________________________________________________________\n"
          ]
        }
      ],
      "source": [
        "model3b.summary()"
      ]
    },
    {
      "cell_type": "code",
      "execution_count": null,
      "metadata": {
        "colab": {
          "base_uri": "https://localhost:8080/"
        },
        "id": "YYqepcdKFFSC",
        "outputId": "4d5b52f6-5513-4b5b-d3a7-60817b313b68"
      },
      "outputs": [
        {
          "name": "stdout",
          "output_type": "stream",
          "text": [
            "Epoch 1/15\n",
            "1407/1407 [==============================] - 7s 4ms/step - loss: 0.3791 - accuracy: 0.8678 - val_loss: 1.5275 - val_accuracy: 0.6048\n",
            "Epoch 2/15\n",
            "1407/1407 [==============================] - 6s 4ms/step - loss: 0.3517 - accuracy: 0.8790 - val_loss: 1.5693 - val_accuracy: 0.5984\n",
            "Epoch 3/15\n",
            "1407/1407 [==============================] - 6s 4ms/step - loss: 0.3324 - accuracy: 0.8863 - val_loss: 1.6374 - val_accuracy: 0.6080\n",
            "Epoch 4/15\n",
            "1407/1407 [==============================] - 5s 4ms/step - loss: 0.3138 - accuracy: 0.8912 - val_loss: 1.6685 - val_accuracy: 0.6016\n",
            "Epoch 5/15\n",
            "1407/1407 [==============================] - 5s 4ms/step - loss: 0.2950 - accuracy: 0.8998 - val_loss: 1.7269 - val_accuracy: 0.5964\n",
            "Epoch 6/15\n",
            "1407/1407 [==============================] - 5s 4ms/step - loss: 0.2812 - accuracy: 0.9035 - val_loss: 1.7658 - val_accuracy: 0.5984\n",
            "Epoch 7/15\n",
            "1407/1407 [==============================] - 6s 4ms/step - loss: 0.2636 - accuracy: 0.9103 - val_loss: 1.8631 - val_accuracy: 0.5966\n",
            "Epoch 8/15\n",
            "1407/1407 [==============================] - 6s 4ms/step - loss: 0.2481 - accuracy: 0.9159 - val_loss: 1.9144 - val_accuracy: 0.5998\n",
            "Epoch 9/15\n",
            "1407/1407 [==============================] - 6s 4ms/step - loss: 0.2329 - accuracy: 0.9231 - val_loss: 1.9481 - val_accuracy: 0.5936\n",
            "Epoch 10/15\n",
            "1407/1407 [==============================] - 5s 4ms/step - loss: 0.2236 - accuracy: 0.9252 - val_loss: 2.0032 - val_accuracy: 0.5962\n",
            "Epoch 11/15\n",
            "1407/1407 [==============================] - 6s 4ms/step - loss: 0.2084 - accuracy: 0.9306 - val_loss: 2.0043 - val_accuracy: 0.6026\n",
            "Epoch 12/15\n",
            "1407/1407 [==============================] - 5s 4ms/step - loss: 0.2017 - accuracy: 0.9316 - val_loss: 2.0687 - val_accuracy: 0.5952\n",
            "Epoch 13/15\n",
            "1407/1407 [==============================] - 6s 4ms/step - loss: 0.1880 - accuracy: 0.9369 - val_loss: 2.1738 - val_accuracy: 0.5904\n",
            "Epoch 14/15\n",
            "1407/1407 [==============================] - 6s 4ms/step - loss: 0.1816 - accuracy: 0.9400 - val_loss: 2.2153 - val_accuracy: 0.5936\n",
            "Epoch 15/15\n",
            "1407/1407 [==============================] - 6s 4ms/step - loss: 0.1721 - accuracy: 0.9426 - val_loss: 2.2770 - val_accuracy: 0.5938\n"
          ]
        }
      ],
      "source": [
        "model3b.compile(optimizer=\"adam\",\n",
        "                loss=\"sparse_categorical_crossentropy\",\n",
        "                metrics=[\"accuracy\"])\n",
        "\n",
        "history3b = model3b.fit(x2_train, y2_train, epochs=15, validation_split=0.1)"
      ]
    },
    {
      "cell_type": "code",
      "execution_count": null,
      "metadata": {
        "colab": {
          "base_uri": "https://localhost:8080/"
        },
        "id": "hrTvjd6lKp3R",
        "outputId": "debf7abf-1196-423c-c78c-0054ca25aaaf"
      },
      "outputs": [
        {
          "name": "stdout",
          "output_type": "stream",
          "text": [
            "313/313 [==============================] - 1s 3ms/step - loss: 2.3547 - accuracy: 0.5876\n"
          ]
        }
      ],
      "source": [
        "test_loss3b, test_acc3b = model3b.evaluate(x2_test, y2_test)"
      ]
    },
    {
      "cell_type": "markdown",
      "metadata": {
        "id": "3ExIQusyCi2a"
      },
      "source": [
        "# Compare Performance of all models"
      ]
    },
    {
      "cell_type": "code",
      "execution_count": null,
      "metadata": {
        "colab": {
          "base_uri": "https://localhost:8080/"
        },
        "id": "uQkDEE7TClUC",
        "outputId": "b1f2c650-347e-4b14-e016-f4f489c6cbe1"
      },
      "outputs": [
        {
          "name": "stdout",
          "output_type": "stream",
          "text": [
            "Model test_accuracy for MNIST\n",
            "CNN1 Test_Accuracy:0.9876999855041504 Test_Loss:0.05628654360771179\n",
            "CNN2 Test_Accuracy:0.9882000088691711 Test_Loss:0.059671178460121155\n",
            "LeNet Test_Accuracy:0.9883000254631042 Test_Loss:0.047087009996175766\n"
          ]
        }
      ],
      "source": [
        "print(\"Model test_accuracy for MNIST\")\n",
        "print(\"CNN1 Test_Accuracy:{acc} Test_Loss:{loss}\".format(acc=test_acc1a, loss=test_loss1a))\n",
        "print(\"CNN2 Test_Accuracy:{acc} Test_Loss:{loss}\".format(acc=test_acc2a, loss=test_loss2a))\n",
        "print(\"LeNet Test_Accuracy:{acc} Test_Loss:{loss}\".format(acc=test_acc3a, loss=test_loss3a))"
      ]
    },
    {
      "cell_type": "markdown",
      "metadata": {
        "id": "OOXgTleGeJxU"
      },
      "source": [
        "**Although all CNN Architectures perform roughly the same, LeNet has slighly better accuracy**"
      ]
    },
    {
      "cell_type": "code",
      "execution_count": null,
      "metadata": {
        "id": "JuM4SyL4az__"
      },
      "outputs": [],
      "source": [
        "acc1a = history1a.history['accuracy']\n",
        "val_acc1a = history1a.history['val_accuracy']\n",
        "loss1a = history1a.history['loss']\n",
        "val_loss1a = history1a.history['val_loss']\n",
        "ep = np.arange(1,16)\n",
        "\n",
        "acc2a = history2a.history['accuracy']\n",
        "val_acc2a = history2a.history['val_accuracy']\n",
        "loss2a = history2a.history['loss']\n",
        "val_loss2a = history2a.history['val_loss']\n",
        "\n",
        "acc3a = history3.history['accuracy']\n",
        "val_acc3a = history3.history['val_accuracy']\n",
        "loss3a = history3.history['loss']\n",
        "val_loss3a = history3.history['val_loss']"
      ]
    },
    {
      "cell_type": "code",
      "execution_count": null,
      "metadata": {
        "colab": {
          "base_uri": "https://localhost:8080/",
          "height": 844
        },
        "id": "BxoLjoodZNGv",
        "outputId": "b4703c64-f260-4e08-d833-6f6d0b803a8b"
      },
      "outputs": [
        {
          "name": "stdout",
          "output_type": "stream",
          "text": [
            "MNIST\n",
            "Accuracy vs Validation Accuracy\n"
          ]
        },
        {
          "data": {
            "image/png": "[encoded data removed]",
            "text/plain": [
              "<Figure size 432x288 with 1 Axes>"
            ]
          },
          "metadata": {},
          "output_type": "display_data"
        },
        {
          "data": {
            "image/png": "[encoded data removed]",
            "text/plain": [
              "<Figure size 432x288 with 1 Axes>"
            ]
          },
          "metadata": {},
          "output_type": "display_data"
        },
        {
          "data": {
            "image/png": "[encoded data removed]",
            "text/plain": [
              "<Figure size 432x288 with 1 Axes>"
            ]
          },
          "metadata": {},
          "output_type": "display_data"
        }
      ],
      "source": [
        "print(\"MNIST\")\n",
        "print(\"Accuracy vs Validation Accuracy\")\n",
        "plt.title(\"CNN1\")\n",
        "sns.lineplot(x=ep,y = acc1a)\n",
        "sns.lineplot(x=ep,y = val_acc1a)\n",
        "plt.legend([\"Accuracy\", \"Validation Accuracy\"])\n",
        "plt.show()\n",
        "plt.title(\"CNN2\")\n",
        "sns.lineplot(x=ep,y = acc2a)\n",
        "sns.lineplot(x=ep,y = val_acc2a)\n",
        "plt.legend([\"Accuracy\", \"Validation Accuracy\"])\n",
        "plt.show()\n",
        "plt.title(\"LeNet\")\n",
        "sns.lineplot(x=ep,y = acc3a)\n",
        "sns.lineplot(x=ep,y = val_acc3a)\n",
        "plt.legend([\"Accuracy\", \"Validation Accuracy\"])\n",
        "plt.show()"
      ]
    },
    {
      "cell_type": "code",
      "execution_count": null,
      "metadata": {
        "colab": {
          "base_uri": "https://localhost:8080/"
        },
        "id": "nUKDpFC2CmnS",
        "outputId": "90fe7a93-6ef4-4cce-9b16-456f4e938dda"
      },
      "outputs": [
        {
          "name": "stdout",
          "output_type": "stream",
          "text": [
            "Model test_accuracy for CIFAR10\n",
            "CNN1 Test_Accuracy:0.6194999814033508 Test_Loss:1.6726720333099365\n",
            "CNN2 Test_Accuracy:0.6291000247001648 Test_Loss:2.4362473487854004\n",
            "LeNet Test_Accuracy:0.6071000099182129 Test_Loss:1.4945073127746582\n"
          ]
        }
      ],
      "source": [
        "print(\"Model test_accuracy for CIFAR10\")\n",
        "print(\"CNN1 Test_Accuracy:{acc} Test_Loss:{loss}\".format(acc=test_acc1b, loss=test_loss1b))\n",
        "print(\"CNN2 Test_Accuracy:{acc} Test_Loss:{loss}\".format(acc=test_acc2b, loss=test_loss2b))\n",
        "print(\"LeNet Test_Accuracy:{acc} Test_Loss:{loss}\".format(acc=test_acc3b, loss=test_loss3b))"
      ]
    },
    {
      "cell_type": "markdown",
      "metadata": {
        "id": "BNJZzyvkd7eG"
      },
      "source": [
        "It can be seen that CNN Architecture 2 performs the best for CIFAR10 dataset"
      ]
    },
    {
      "cell_type": "code",
      "execution_count": null,
      "metadata": {
        "id": "Z_mf1P2Jbi0n"
      },
      "outputs": [],
      "source": [
        "acc1b = history1b.history['accuracy']\n",
        "val_acc1b = history1b.history['val_accuracy']\n",
        "loss1b = history1b.history['loss']\n",
        "val_loss1b = history1b.history['val_loss']\n",
        "ep2 = np.arange(1,26)\n",
        "\n",
        "acc2b = history2b.history['accuracy']\n",
        "val_acc2b = history2b.history['val_accuracy']\n",
        "loss2b = history2b.history['loss']\n",
        "val_loss2b = history2b.history['val_loss']\n",
        "\n",
        "acc3b = history3b.history['accuracy']\n",
        "val_acc3b = history3b.history['val_accuracy']\n",
        "loss3b = history3b.history['loss']\n",
        "val_loss3b = history3b.history['val_loss']"
      ]
    },
    {
      "cell_type": "code",
      "execution_count": null,
      "metadata": {
        "colab": {
          "base_uri": "https://localhost:8080/",
          "height": 844
        },
        "id": "B3dqI9HJcJ2F",
        "outputId": "3b51012f-5b2e-4e22-9f3d-7319a28ef993"
      },
      "outputs": [
        {
          "name": "stdout",
          "output_type": "stream",
          "text": [
            "CIFAR 10\n",
            "Accuracy vs Validation Accuracy\n"
          ]
        },
        {
          "data": {
            "image/png": "[encoded data removed]",
            "text/plain": [
              "<Figure size 432x288 with 1 Axes>"
            ]
          },
          "metadata": {},
          "output_type": "display_data"
        },
        {
          "data": {
            "image/png": "[encoded data removed]",
            "text/plain": [
              "<Figure size 432x288 with 1 Axes>"
            ]
          },
          "metadata": {},
          "output_type": "display_data"
        },
        {
          "data": {
            "image/png": "[encoded data removed]",
            "text/plain": [
              "<Figure size 432x288 with 1 Axes>"
            ]
          },
          "metadata": {},
          "output_type": "display_data"
        }
      ],
      "source": [
        "print(\"CIFAR 10\")\n",
        "print(\"Accuracy vs Validation Accuracy\")\n",
        "plt.title(\"CNN1\")\n",
        "sns.lineplot(x=ep,y = acc1b)\n",
        "sns.lineplot(x=ep,y = val_acc1b)\n",
        "plt.legend([\"Accuracy\", \"Validation Accuracy\"])\n",
        "plt.show()\n",
        "plt.title(\"CNN2\")\n",
        "sns.lineplot(x=ep,y = acc2b)\n",
        "sns.lineplot(x=ep,y = val_acc2b)\n",
        "plt.legend([\"Accuracy\", \"Validation Accuracy\"])\n",
        "plt.show()\n",
        "plt.title(\"LeNet\")\n",
        "sns.lineplot(x=ep,y = acc3b)\n",
        "sns.lineplot(x=ep,y = val_acc3b)\n",
        "plt.legend([\"Accuracy\", \"Validation Accuracy\"])\n",
        "plt.show()"
      ]
    },
    {
      "cell_type": "markdown",
      "metadata": {
        "id": "2n9sCin6CnUK"
      },
      "source": [
        "# Tune Hyperparameters"
      ]
    },
    {
      "cell_type": "code",
      "execution_count": null,
      "metadata": {
        "id": "MgyxjQ0LCqSh"
      },
      "outputs": [],
      "source": [
        "model4 = tf.keras.Sequential()\n",
        "model4(tf.keras.Input(shape=(32,32,3)))\n",
        "model4.add(tf.keras.layers.Conv2D(6, kernel_size=(5,5), strides=1, padding=\"same\", activation = tf.keras.activations.tanh))\n",
        "model4.add(tf.keras.layers.MaxPooling2D(pool_size=(2,2), strides=2, padding=\"valid\"))\n",
        "model4.add(tf.keras.layers.Conv2D(16, kernel_size=(5,5), strides=1, padding=\"valid\", activation = tf.keras.activations.tanh))\n",
        "model4.add(tf.keras.layers.MaxPooling2D(pool_size=(2,2), strides=2, padding=\"valid\"))\n",
        "model4.add(tf.keras.layers.Flatten())\n",
        "model4.add(tf.keras.layers.Dense(120,activation=\"sigmoid\", name=\"hiddenLayer1\"))\n",
        "model4.add(tf.keras.layers.Dropout(0.25))\n",
        "model4.add(tf.keras.layers.Dense(84,activation=\"sigmoid\", name=\"hiddenLayer2\"))\n",
        "model4.add(tf.keras.layers.Dropout(0.25))\n",
        "model4.add(tf.keras.layers.Dense(10,activation=\"softmax\", name=\"outputLayer\"))"
      ]
    },
    {
      "cell_type": "code",
      "execution_count": null,
      "metadata": {
        "colab": {
          "base_uri": "https://localhost:8080/"
        },
        "id": "0dWx-AWqfiY8",
        "outputId": "b891580c-bfe1-4cf0-ad21-491bd174574d"
      },
      "outputs": [
        {
          "output_type": "stream",
          "name": "stdout",
          "text": [
            "Epoch 1/15\n",
            "1407/1407 [==============================] - 6s 4ms/step - loss: 1.7737 - accuracy: 0.3478 - val_loss: 1.5160 - val_accuracy: 0.4482\n",
            "Epoch 2/15\n",
            "1407/1407 [==============================] - 6s 4ms/step - loss: 1.4794 - accuracy: 0.4671 - val_loss: 1.3733 - val_accuracy: 0.5024\n",
            "Epoch 3/15\n",
            "1407/1407 [==============================] - 6s 4ms/step - loss: 1.3714 - accuracy: 0.5049 - val_loss: 1.2601 - val_accuracy: 0.5436\n",
            "Epoch 4/15\n",
            "1407/1407 [==============================] - 6s 4ms/step - loss: 1.3000 - accuracy: 0.5328 - val_loss: 1.1941 - val_accuracy: 0.5750\n",
            "Epoch 5/15\n",
            "1407/1407 [==============================] - 6s 4ms/step - loss: 1.2414 - accuracy: 0.5566 - val_loss: 1.1871 - val_accuracy: 0.5770\n",
            "Epoch 6/15\n",
            "1407/1407 [==============================] - 5s 4ms/step - loss: 1.1951 - accuracy: 0.5739 - val_loss: 1.1254 - val_accuracy: 0.5996\n",
            "Epoch 7/15\n",
            "1407/1407 [==============================] - 5s 4ms/step - loss: 1.1604 - accuracy: 0.5879 - val_loss: 1.0930 - val_accuracy: 0.6090\n",
            "Epoch 8/15\n",
            "1407/1407 [==============================] - 6s 4ms/step - loss: 1.1259 - accuracy: 0.6005 - val_loss: 1.0856 - val_accuracy: 0.6130\n",
            "Epoch 9/15\n",
            "1407/1407 [==============================] - 5s 4ms/step - loss: 1.0912 - accuracy: 0.6118 - val_loss: 1.0797 - val_accuracy: 0.6100\n",
            "Epoch 10/15\n",
            "1407/1407 [==============================] - 6s 4ms/step - loss: 1.0666 - accuracy: 0.6198 - val_loss: 1.0728 - val_accuracy: 0.6202\n",
            "Epoch 11/15\n",
            "1407/1407 [==============================] - 5s 4ms/step - loss: 1.0409 - accuracy: 0.6288 - val_loss: 1.0640 - val_accuracy: 0.6250\n",
            "Epoch 12/15\n",
            "1407/1407 [==============================] - 6s 4ms/step - loss: 1.0226 - accuracy: 0.6379 - val_loss: 1.0462 - val_accuracy: 0.6360\n",
            "Epoch 13/15\n",
            "1407/1407 [==============================] - 6s 4ms/step - loss: 1.0051 - accuracy: 0.6442 - val_loss: 1.0351 - val_accuracy: 0.6410\n",
            "Epoch 14/15\n",
            "1407/1407 [==============================] - 6s 4ms/step - loss: 0.9795 - accuracy: 0.6516 - val_loss: 1.0238 - val_accuracy: 0.6370\n",
            "Epoch 15/15\n",
            "1407/1407 [==============================] - 5s 4ms/step - loss: 0.9641 - accuracy: 0.6595 - val_loss: 1.0202 - val_accuracy: 0.6382\n"
          ]
        }
      ],
      "source": [
        "model4.compile(optimizer=\"adam\",\n",
        "                loss=\"sparse_categorical_crossentropy\",\n",
        "                metrics=[\"accuracy\"])\n",
        "\n",
        "history4 = model4.fit(x2_train, y2_train, epochs=15, validation_split=0.1)"
      ]
    },
    {
      "cell_type": "code",
      "execution_count": null,
      "metadata": {
        "id": "KQFABk7dfl3j",
        "colab": {
          "base_uri": "https://localhost:8080/"
        },
        "outputId": "1912ef4d-882c-4038-d609-c577507d829e"
      },
      "outputs": [
        {
          "output_type": "stream",
          "name": "stdout",
          "text": [
            "313/313 [==============================] - 1s 3ms/step - loss: 1.0560 - accuracy: 0.6296\n"
          ]
        }
      ],
      "source": [
        "test_loss4, test_acc4 = model4.evaluate(x2_test, y2_test)"
      ]
    },
    {
      "cell_type": "markdown",
      "source": [
        "Hence, by adding dropout regularization, accuracy of LeNet Architecture increased by 2%"
      ],
      "metadata": {
        "id": "9pr1glqTFyjU"
      }
    },
    {
      "cell_type": "code",
      "source": [],
      "metadata": {
        "id": "oekQaxTEF8Vv"
      },
      "execution_count": null,
      "outputs": []
    }
  ],
  "metadata": {
    "accelerator": "GPU",
    "colab": {
      "collapsed_sections": [
        "4gej8EX1CF4M",
        "rc93FE0FCLFU",
        "w8jy-OeACQxT",
        "BE_FrUXZCV6q"
      ],
      "provenance": []
    },
    "gpuClass": "standard",
    "kernelspec": {
      "display_name": "Python 3",
      "name": "python3"
    },
    "language_info": {
      "name": "python"
    }
  },
  "nbformat": 4,
  "nbformat_minor": 0
}
