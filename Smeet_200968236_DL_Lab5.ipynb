{
  "nbformat": 4,
  "nbformat_minor": 0,
  "metadata": {
    "colab": {
      "provenance": [],
      "collapsed_sections": [
        "v-3jCvEyX2Wb",
        "5dIx7XqHXx1T",
        "-Ms2EnOiXl5V",
        "PWNTWwtFXrI7"
      ]
    },
    "kernelspec": {
      "name": "python3",
      "display_name": "Python 3"
    },
    "language_info": {
      "name": "python"
    },
    "accelerator": "GPU",
    "gpuClass": "standard"
  },
  "cells": [
    {
      "cell_type": "code",
      "execution_count": null,
      "metadata": {
        "id": "2rmpdf8jEo0G"
      },
      "outputs": [],
      "source": [
        "import tensorflow as tf\n",
        "from tensorflow import keras\n",
        "import pandas as pd\n",
        "import numpy as np\n",
        "import matplotlib.pyplot as plt\n",
        "import matplotlib.image as mpimg\n",
        "import seaborn as sns\n",
        "from sklearn.preprocessing import StandardScaler\n",
        "from sklearn.model_selection import train_test_split"
      ]
    },
    {
      "cell_type": "markdown",
      "source": [
        "# Dataset & Preprocessing"
      ],
      "metadata": {
        "id": "v-3jCvEyX2Wb"
      }
    },
    {
      "cell_type": "code",
      "source": [
        "from sklearn.datasets import fetch_california_housing\n",
        "\n",
        "housing_data = fetch_california_housing()\n",
        "descr = housing_data['DESCR']\n",
        "feature_names = housing_data['feature_names']\n",
        "data = housing_data['data']\n",
        "target = housing_data['target']\n",
        "df1 = pd.DataFrame(data=data)\n",
        "df1.rename(columns={0: feature_names[0], 1: feature_names[1], 2: feature_names[2], 3: feature_names[3],\n",
        " 4: feature_names[4], 5: feature_names[5], 6: feature_names[6], 7: feature_names[7]}, inplace=True)\n",
        "df2 = pd.DataFrame(data=target)\n",
        "df2.rename(columns={0: 'Target'}, inplace=True)\n",
        "housing = pd.concat([df1, df2], axis=1)\n",
        "print(housing.columns)"
      ],
      "metadata": {
        "colab": {
          "base_uri": "https://localhost:8080/"
        },
        "id": "ASUWZL0gLqQk",
        "outputId": "b13aa594-46cf-47bb-c436-9bc99e000426"
      },
      "execution_count": null,
      "outputs": [
        {
          "output_type": "stream",
          "name": "stdout",
          "text": [
            "Index(['MedInc', 'HouseAge', 'AveRooms', 'AveBedrms', 'Population', 'AveOccup',\n",
            "       'Latitude', 'Longitude', 'Target'],\n",
            "      dtype='object')\n"
          ]
        }
      ]
    },
    {
      "cell_type": "code",
      "source": [
        "print(descr)"
      ],
      "metadata": {
        "colab": {
          "base_uri": "https://localhost:8080/"
        },
        "id": "LSiDI7JSOXWE",
        "outputId": "1532f01d-5bcd-4383-b505-fd141f65436f"
      },
      "execution_count": null,
      "outputs": [
        {
          "output_type": "stream",
          "name": "stdout",
          "text": [
            ".. _california_housing_dataset:\n",
            "\n",
            "California Housing dataset\n",
            "--------------------------\n",
            "\n",
            "**Data Set Characteristics:**\n",
            "\n",
            "    :Number of Instances: 20640\n",
            "\n",
            "    :Number of Attributes: 8 numeric, predictive attributes and the target\n",
            "\n",
            "    :Attribute Information:\n",
            "        - MedInc        median income in block group\n",
            "        - HouseAge      median house age in block group\n",
            "        - AveRooms      average number of rooms per household\n",
            "        - AveBedrms     average number of bedrooms per household\n",
            "        - Population    block group population\n",
            "        - AveOccup      average number of household members\n",
            "        - Latitude      block group latitude\n",
            "        - Longitude     block group longitude\n",
            "\n",
            "    :Missing Attribute Values: None\n",
            "\n",
            "This dataset was obtained from the StatLib repository.\n",
            "https://www.dcc.fc.up.pt/~ltorgo/Regression/cal_housing.html\n",
            "\n",
            "The target variable is the median house value for California districts,\n",
            "expressed in hundreds of thousands of dollars ($100,000).\n",
            "\n",
            "This dataset was derived from the 1990 U.S. census, using one row per census\n",
            "block group. A block group is the smallest geographical unit for which the U.S.\n",
            "Census Bureau publishes sample data (a block group typically has a population\n",
            "of 600 to 3,000 people).\n",
            "\n",
            "An household is a group of people residing within a home. Since the average\n",
            "number of rooms and bedrooms in this dataset are provided per household, these\n",
            "columns may take surpinsingly large values for block groups with few households\n",
            "and many empty houses, such as vacation resorts.\n",
            "\n",
            "It can be downloaded/loaded using the\n",
            ":func:`sklearn.datasets.fetch_california_housing` function.\n",
            "\n",
            ".. topic:: References\n",
            "\n",
            "    - Pace, R. Kelley and Ronald Barry, Sparse Spatial Autoregressions,\n",
            "      Statistics and Probability Letters, 33 (1997) 291-297\n",
            "\n"
          ]
        }
      ]
    },
    {
      "cell_type": "code",
      "source": [
        "housing"
      ],
      "metadata": {
        "colab": {
          "base_uri": "https://localhost:8080/"
        },
        "id": "qNqMjwf9MMVz",
        "outputId": "38376951-1185-47e1-add0-3cb0698a7cdf"
      },
      "execution_count": null,
      "outputs": [
        {
          "output_type": "execute_result",
          "data": {
            "text/plain": [
              "       MedInc  HouseAge  AveRooms  AveBedrms  Population  AveOccup  Latitude  \\\n",
              "0      8.3252      41.0  6.984127   1.023810       322.0  2.555556     37.88   \n",
              "1      8.3014      21.0  6.238137   0.971880      2401.0  2.109842     37.86   \n",
              "2      7.2574      52.0  8.288136   1.073446       496.0  2.802260     37.85   \n",
              "3      5.6431      52.0  5.817352   1.073059       558.0  2.547945     37.85   \n",
              "4      3.8462      52.0  6.281853   1.081081       565.0  2.181467     37.85   \n",
              "...       ...       ...       ...        ...         ...       ...       ...   \n",
              "20635  1.5603      25.0  5.045455   1.133333       845.0  2.560606     39.48   \n",
              "20636  2.5568      18.0  6.114035   1.315789       356.0  3.122807     39.49   \n",
              "20637  1.7000      17.0  5.205543   1.120092      1007.0  2.325635     39.43   \n",
              "20638  1.8672      18.0  5.329513   1.171920       741.0  2.123209     39.43   \n",
              "20639  2.3886      16.0  5.254717   1.162264      1387.0  2.616981     39.37   \n",
              "\n",
              "       Longitude  Target  \n",
              "0        -122.23   4.526  \n",
              "1        -122.22   3.585  \n",
              "2        -122.24   3.521  \n",
              "3        -122.25   3.413  \n",
              "4        -122.25   3.422  \n",
              "...          ...     ...  \n",
              "20635    -121.09   0.781  \n",
              "20636    -121.21   0.771  \n",
              "20637    -121.22   0.923  \n",
              "20638    -121.32   0.847  \n",
              "20639    -121.24   0.894  \n",
              "\n",
              "[20640 rows x 9 columns]"
            ],
            "text/html": [
              "\n",
              "  <div id=\"df-2f2e3262-2eb3-4f19-a342-a84694562a15\">\n",
              "    <div class=\"colab-df-container\">\n",
              "      <div>\n",
              "<style scoped>\n",
              "    .dataframe tbody tr th:only-of-type {\n",
              "        vertical-align: middle;\n",
              "    }\n",
              "\n",
              "    .dataframe tbody tr th {\n",
              "        vertical-align: top;\n",
              "    }\n",
              "\n",
              "    .dataframe thead th {\n",
              "        text-align: right;\n",
              "    }\n",
              "</style>\n",
              "<table border=\"1\" class=\"dataframe\">\n",
              "  <thead>\n",
              "    <tr style=\"text-align: right;\">\n",
              "      <th></th>\n",
              "      <th>MedInc</th>\n",
              "      <th>HouseAge</th>\n",
              "      <th>AveRooms</th>\n",
              "      <th>AveBedrms</th>\n",
              "      <th>Population</th>\n",
              "      <th>AveOccup</th>\n",
              "      <th>Latitude</th>\n",
              "      <th>Longitude</th>\n",
              "      <th>Target</th>\n",
              "    </tr>\n",
              "  </thead>\n",
              "  <tbody>\n",
              "    <tr>\n",
              "      <th>0</th>\n",
              "      <td>8.3252</td>\n",
              "      <td>41.0</td>\n",
              "      <td>6.984127</td>\n",
              "      <td>1.023810</td>\n",
              "      <td>322.0</td>\n",
              "      <td>2.555556</td>\n",
              "      <td>37.88</td>\n",
              "      <td>-122.23</td>\n",
              "      <td>4.526</td>\n",
              "    </tr>\n",
              "    <tr>\n",
              "      <th>1</th>\n",
              "      <td>8.3014</td>\n",
              "      <td>21.0</td>\n",
              "      <td>6.238137</td>\n",
              "      <td>0.971880</td>\n",
              "      <td>2401.0</td>\n",
              "      <td>2.109842</td>\n",
              "      <td>37.86</td>\n",
              "      <td>-122.22</td>\n",
              "      <td>3.585</td>\n",
              "    </tr>\n",
              "    <tr>\n",
              "      <th>2</th>\n",
              "      <td>7.2574</td>\n",
              "      <td>52.0</td>\n",
              "      <td>8.288136</td>\n",
              "      <td>1.073446</td>\n",
              "      <td>496.0</td>\n",
              "      <td>2.802260</td>\n",
              "      <td>37.85</td>\n",
              "      <td>-122.24</td>\n",
              "      <td>3.521</td>\n",
              "    </tr>\n",
              "    <tr>\n",
              "      <th>3</th>\n",
              "      <td>5.6431</td>\n",
              "      <td>52.0</td>\n",
              "      <td>5.817352</td>\n",
              "      <td>1.073059</td>\n",
              "      <td>558.0</td>\n",
              "      <td>2.547945</td>\n",
              "      <td>37.85</td>\n",
              "      <td>-122.25</td>\n",
              "      <td>3.413</td>\n",
              "    </tr>\n",
              "    <tr>\n",
              "      <th>4</th>\n",
              "      <td>3.8462</td>\n",
              "      <td>52.0</td>\n",
              "      <td>6.281853</td>\n",
              "      <td>1.081081</td>\n",
              "      <td>565.0</td>\n",
              "      <td>2.181467</td>\n",
              "      <td>37.85</td>\n",
              "      <td>-122.25</td>\n",
              "      <td>3.422</td>\n",
              "    </tr>\n",
              "    <tr>\n",
              "      <th>...</th>\n",
              "      <td>...</td>\n",
              "      <td>...</td>\n",
              "      <td>...</td>\n",
              "      <td>...</td>\n",
              "      <td>...</td>\n",
              "      <td>...</td>\n",
              "      <td>...</td>\n",
              "      <td>...</td>\n",
              "      <td>...</td>\n",
              "    </tr>\n",
              "    <tr>\n",
              "      <th>20635</th>\n",
              "      <td>1.5603</td>\n",
              "      <td>25.0</td>\n",
              "      <td>5.045455</td>\n",
              "      <td>1.133333</td>\n",
              "      <td>845.0</td>\n",
              "      <td>2.560606</td>\n",
              "      <td>39.48</td>\n",
              "      <td>-121.09</td>\n",
              "      <td>0.781</td>\n",
              "    </tr>\n",
              "    <tr>\n",
              "      <th>20636</th>\n",
              "      <td>2.5568</td>\n",
              "      <td>18.0</td>\n",
              "      <td>6.114035</td>\n",
              "      <td>1.315789</td>\n",
              "      <td>356.0</td>\n",
              "      <td>3.122807</td>\n",
              "      <td>39.49</td>\n",
              "      <td>-121.21</td>\n",
              "      <td>0.771</td>\n",
              "    </tr>\n",
              "    <tr>\n",
              "      <th>20637</th>\n",
              "      <td>1.7000</td>\n",
              "      <td>17.0</td>\n",
              "      <td>5.205543</td>\n",
              "      <td>1.120092</td>\n",
              "      <td>1007.0</td>\n",
              "      <td>2.325635</td>\n",
              "      <td>39.43</td>\n",
              "      <td>-121.22</td>\n",
              "      <td>0.923</td>\n",
              "    </tr>\n",
              "    <tr>\n",
              "      <th>20638</th>\n",
              "      <td>1.8672</td>\n",
              "      <td>18.0</td>\n",
              "      <td>5.329513</td>\n",
              "      <td>1.171920</td>\n",
              "      <td>741.0</td>\n",
              "      <td>2.123209</td>\n",
              "      <td>39.43</td>\n",
              "      <td>-121.32</td>\n",
              "      <td>0.847</td>\n",
              "    </tr>\n",
              "    <tr>\n",
              "      <th>20639</th>\n",
              "      <td>2.3886</td>\n",
              "      <td>16.0</td>\n",
              "      <td>5.254717</td>\n",
              "      <td>1.162264</td>\n",
              "      <td>1387.0</td>\n",
              "      <td>2.616981</td>\n",
              "      <td>39.37</td>\n",
              "      <td>-121.24</td>\n",
              "      <td>0.894</td>\n",
              "    </tr>\n",
              "  </tbody>\n",
              "</table>\n",
              "<p>20640 rows × 9 columns</p>\n",
              "</div>\n",
              "      <button class=\"colab-df-convert\" onclick=\"convertToInteractive('df-2f2e3262-2eb3-4f19-a342-a84694562a15')\"\n",
              "              title=\"Convert this dataframe to an interactive table.\"\n",
              "              style=\"display:none;\">\n",
              "        \n",
              "  <svg xmlns=\"http://www.w3.org/2000/svg\" height=\"24px\"viewBox=\"0 0 24 24\"\n",
              "       width=\"24px\">\n",
              "    <path d=\"M0 0h24v24H0V0z\" fill=\"none\"/>\n",
              "    <path d=\"M18.56 5.44l.94 2.06.94-2.06 2.06-.94-2.06-.94-.94-2.06-.94 2.06-2.06.94zm-11 1L8.5 8.5l.94-2.06 2.06-.94-2.06-.94L8.5 2.5l-.94 2.06-2.06.94zm10 10l.94 2.06.94-2.06 2.06-.94-2.06-.94-.94-2.06-.94 2.06-2.06.94z\"/><path d=\"M17.41 7.96l-1.37-1.37c-.4-.4-.92-.59-1.43-.59-.52 0-1.04.2-1.43.59L10.3 9.45l-7.72 7.72c-.78.78-.78 2.05 0 2.83L4 21.41c.39.39.9.59 1.41.59.51 0 1.02-.2 1.41-.59l7.78-7.78 2.81-2.81c.8-.78.8-2.07 0-2.86zM5.41 20L4 18.59l7.72-7.72 1.47 1.35L5.41 20z\"/>\n",
              "  </svg>\n",
              "      </button>\n",
              "      \n",
              "  <style>\n",
              "    .colab-df-container {\n",
              "      display:flex;\n",
              "      flex-wrap:wrap;\n",
              "      gap: 12px;\n",
              "    }\n",
              "\n",
              "    .colab-df-convert {\n",
              "      background-color: #E8F0FE;\n",
              "      border: none;\n",
              "      border-radius: 50%;\n",
              "      cursor: pointer;\n",
              "      display: none;\n",
              "      fill: #1967D2;\n",
              "      height: 32px;\n",
              "      padding: 0 0 0 0;\n",
              "      width: 32px;\n",
              "    }\n",
              "\n",
              "    .colab-df-convert:hover {\n",
              "      background-color: #E2EBFA;\n",
              "      box-shadow: 0px 1px 2px rgba(60, 64, 67, 0.3), 0px 1px 3px 1px rgba(60, 64, 67, 0.15);\n",
              "      fill: #174EA6;\n",
              "    }\n",
              "\n",
              "    [theme=dark] .colab-df-convert {\n",
              "      background-color: #3B4455;\n",
              "      fill: #D2E3FC;\n",
              "    }\n",
              "\n",
              "    [theme=dark] .colab-df-convert:hover {\n",
              "      background-color: #434B5C;\n",
              "      box-shadow: 0px 1px 3px 1px rgba(0, 0, 0, 0.15);\n",
              "      filter: drop-shadow(0px 1px 2px rgba(0, 0, 0, 0.3));\n",
              "      fill: #FFFFFF;\n",
              "    }\n",
              "  </style>\n",
              "\n",
              "      <script>\n",
              "        const buttonEl =\n",
              "          document.querySelector('#df-2f2e3262-2eb3-4f19-a342-a84694562a15 button.colab-df-convert');\n",
              "        buttonEl.style.display =\n",
              "          google.colab.kernel.accessAllowed ? 'block' : 'none';\n",
              "\n",
              "        async function convertToInteractive(key) {\n",
              "          const element = document.querySelector('#df-2f2e3262-2eb3-4f19-a342-a84694562a15');\n",
              "          const dataTable =\n",
              "            await google.colab.kernel.invokeFunction('convertToInteractive',\n",
              "                                                     [key], {});\n",
              "          if (!dataTable) return;\n",
              "\n",
              "          const docLinkHtml = 'Like what you see? Visit the ' +\n",
              "            '<a target=\"_blank\" href=https://colab.research.google.com/notebooks/data_table.ipynb>data table notebook</a>'\n",
              "            + ' to learn more about interactive tables.';\n",
              "          element.innerHTML = '';\n",
              "          dataTable['output_type'] = 'display_data';\n",
              "          await google.colab.output.renderOutput(dataTable, element);\n",
              "          const docLink = document.createElement('div');\n",
              "          docLink.innerHTML = docLinkHtml;\n",
              "          element.appendChild(docLink);\n",
              "        }\n",
              "      </script>\n",
              "    </div>\n",
              "  </div>\n",
              "  "
            ]
          },
          "metadata": {},
          "execution_count": 4
        }
      ]
    },
    {
      "cell_type": "code",
      "source": [
        "x = df1\n",
        "y = df2"
      ],
      "metadata": {
        "id": "hJ-Fwb6TMN4S"
      },
      "execution_count": null,
      "outputs": []
    },
    {
      "cell_type": "code",
      "source": [
        "scaler = StandardScaler();\n",
        "x = scaler.fit_transform(x)\n",
        "x.shape"
      ],
      "metadata": {
        "colab": {
          "base_uri": "https://localhost:8080/"
        },
        "id": "5iFQFKzRNG8T",
        "outputId": "c76ac616-005a-44c4-a838-ea9aaa7873d4"
      },
      "execution_count": null,
      "outputs": [
        {
          "output_type": "execute_result",
          "data": {
            "text/plain": [
              "(20640, 8)"
            ]
          },
          "metadata": {},
          "execution_count": 6
        }
      ]
    },
    {
      "cell_type": "code",
      "source": [
        "x_train, x_test, y_train, y_test = train_test_split(x,y, test_size=0.3)"
      ],
      "metadata": {
        "id": "cwyjyniKO_Er"
      },
      "execution_count": null,
      "outputs": []
    },
    {
      "cell_type": "markdown",
      "source": [
        "# Sequential API Model"
      ],
      "metadata": {
        "id": "5dIx7XqHXx1T"
      }
    },
    {
      "cell_type": "code",
      "source": [
        "model1 = tf.keras.Sequential()\n",
        "model1.add(tf.keras.layers.Flatten(input_shape=[8], name=\"inputLayer\"))\n",
        "model1.add(tf.keras.layers.Dense(30,activation=\"relu\", name=\"hiddenLayer1\"))\n",
        "#model1.add(tf.keras.layers.BatchNormalization())\n",
        "model1.add(tf.keras.layers.Dense(1, activation=\"linear\", name=\"outputLayer\"))"
      ],
      "metadata": {
        "id": "t7IeR6-zNqRx"
      },
      "execution_count": null,
      "outputs": []
    },
    {
      "cell_type": "code",
      "source": [
        "keras.utils.plot_model(model1)"
      ],
      "metadata": {
        "colab": {
          "base_uri": "https://localhost:8080/"
        },
        "id": "kODEp0B3PeV8",
        "outputId": "4e4ab853-9b0b-4b89-b7d9-200110b77ca6"
      },
      "execution_count": null,
      "outputs": [
        {
          "output_type": "execute_result",
          "data": {
            "image/png": "[encoded data removed]",
            "text/plain": [
              "<IPython.core.display.Image object>"
            ]
          },
          "metadata": {},
          "execution_count": 9
        }
      ]
    },
    {
      "cell_type": "code",
      "source": [
        "model1.compile(optimizer=\"adam\",\n",
        "          loss=\"mse\",\n",
        "          metrics=[tf.keras.metrics.RootMeanSquaredError()])\n",
        "          #metrics=\"rmse\")\n",
        "\n",
        "history1 = model1.fit(x_train, y_train, epochs=20, validation_split=0.1)"
      ],
      "metadata": {
        "colab": {
          "base_uri": "https://localhost:8080/"
        },
        "id": "mMFV-QAYO1Jj",
        "outputId": "2d45c653-c580-4fff-e084-2fa35c23bc3c"
      },
      "execution_count": null,
      "outputs": [
        {
          "output_type": "stream",
          "name": "stdout",
          "text": [
            "Epoch 1/20\n",
            "407/407 [==============================] - 2s 3ms/step - loss: 1.4855 - root_mean_squared_error: 1.2188 - val_loss: 0.7003 - val_root_mean_squared_error: 0.8368\n",
            "Epoch 2/20\n",
            "407/407 [==============================] - 2s 4ms/step - loss: 0.5865 - root_mean_squared_error: 0.7658 - val_loss: 0.4887 - val_root_mean_squared_error: 0.6991\n",
            "Epoch 3/20\n",
            "407/407 [==============================] - 2s 6ms/step - loss: 0.4668 - root_mean_squared_error: 0.6832 - val_loss: 0.4155 - val_root_mean_squared_error: 0.6446\n",
            "Epoch 4/20\n",
            "407/407 [==============================] - 2s 6ms/step - loss: 0.4205 - root_mean_squared_error: 0.6484 - val_loss: 0.3915 - val_root_mean_squared_error: 0.6257\n",
            "Epoch 5/20\n",
            "407/407 [==============================] - 3s 6ms/step - loss: 0.4003 - root_mean_squared_error: 0.6327 - val_loss: 0.3828 - val_root_mean_squared_error: 0.6187\n",
            "Epoch 6/20\n",
            "407/407 [==============================] - 2s 6ms/step - loss: 0.3903 - root_mean_squared_error: 0.6247 - val_loss: 0.3770 - val_root_mean_squared_error: 0.6140\n",
            "Epoch 7/20\n",
            "407/407 [==============================] - 3s 7ms/step - loss: 0.3843 - root_mean_squared_error: 0.6199 - val_loss: 0.3678 - val_root_mean_squared_error: 0.6064\n",
            "Epoch 8/20\n",
            "407/407 [==============================] - 2s 5ms/step - loss: 0.3754 - root_mean_squared_error: 0.6127 - val_loss: 0.3630 - val_root_mean_squared_error: 0.6025\n",
            "Epoch 9/20\n",
            "407/407 [==============================] - 2s 5ms/step - loss: 0.3719 - root_mean_squared_error: 0.6099 - val_loss: 0.3533 - val_root_mean_squared_error: 0.5944\n",
            "Epoch 10/20\n",
            "407/407 [==============================] - 2s 6ms/step - loss: 0.3675 - root_mean_squared_error: 0.6063 - val_loss: 0.3570 - val_root_mean_squared_error: 0.5975\n",
            "Epoch 11/20\n",
            "407/407 [==============================] - 2s 5ms/step - loss: 0.3618 - root_mean_squared_error: 0.6015 - val_loss: 0.3471 - val_root_mean_squared_error: 0.5892\n",
            "Epoch 12/20\n",
            "407/407 [==============================] - 2s 5ms/step - loss: 0.3591 - root_mean_squared_error: 0.5992 - val_loss: 0.3455 - val_root_mean_squared_error: 0.5878\n",
            "Epoch 13/20\n",
            "407/407 [==============================] - 2s 4ms/step - loss: 0.3549 - root_mean_squared_error: 0.5957 - val_loss: 0.3480 - val_root_mean_squared_error: 0.5899\n",
            "Epoch 14/20\n",
            "407/407 [==============================] - 1s 3ms/step - loss: 0.3514 - root_mean_squared_error: 0.5928 - val_loss: 0.3446 - val_root_mean_squared_error: 0.5870\n",
            "Epoch 15/20\n",
            "407/407 [==============================] - 1s 3ms/step - loss: 0.3543 - root_mean_squared_error: 0.5953 - val_loss: 0.3332 - val_root_mean_squared_error: 0.5773\n",
            "Epoch 16/20\n",
            "407/407 [==============================] - 1s 3ms/step - loss: 0.3471 - root_mean_squared_error: 0.5892 - val_loss: 0.3325 - val_root_mean_squared_error: 0.5767\n",
            "Epoch 17/20\n",
            "407/407 [==============================] - 1s 3ms/step - loss: 0.3448 - root_mean_squared_error: 0.5872 - val_loss: 0.3317 - val_root_mean_squared_error: 0.5759\n",
            "Epoch 18/20\n",
            "407/407 [==============================] - 1s 3ms/step - loss: 0.3432 - root_mean_squared_error: 0.5858 - val_loss: 0.3324 - val_root_mean_squared_error: 0.5766\n",
            "Epoch 19/20\n",
            "407/407 [==============================] - 1s 3ms/step - loss: 0.3384 - root_mean_squared_error: 0.5817 - val_loss: 0.3277 - val_root_mean_squared_error: 0.5724\n",
            "Epoch 20/20\n",
            "407/407 [==============================] - 1s 3ms/step - loss: 0.3366 - root_mean_squared_error: 0.5802 - val_loss: 0.3213 - val_root_mean_squared_error: 0.5668\n"
          ]
        }
      ]
    },
    {
      "cell_type": "code",
      "source": [
        "test_loss1, test_acc1 = model1.evaluate(x_test, y_test)"
      ],
      "metadata": {
        "colab": {
          "base_uri": "https://localhost:8080/"
        },
        "id": "qXit3b_QQIID",
        "outputId": "d956d900-0440-4c37-dfd7-f03035f55e69"
      },
      "execution_count": null,
      "outputs": [
        {
          "output_type": "stream",
          "name": "stdout",
          "text": [
            "194/194 [==============================] - 0s 2ms/step - loss: 0.3498 - root_mean_squared_error: 0.5915\n"
          ]
        }
      ]
    },
    {
      "cell_type": "markdown",
      "source": [
        "RMSE score below 0.5 is considered to be good. Here, as the RMSE is only slightly above 0.5, the model has decent accuracy."
      ],
      "metadata": {
        "id": "Qq4rrv0zYwyb"
      }
    },
    {
      "cell_type": "markdown",
      "source": [
        "# Functional API Model"
      ],
      "metadata": {
        "id": "-Ms2EnOiXl5V"
      }
    },
    {
      "cell_type": "code",
      "source": [
        "from tensorflow.keras import layers\n",
        "\n",
        "inputA = keras.Input(shape=(5,), name=\"InputA\")\n",
        "inputB = keras.Input(shape=(6,), name=\"InputB\")\n",
        "\n",
        "l = layers.Dense(30, activation=\"relu\", name=\"Hidden1\")(inputB)\n",
        "#l = layers.BatchNormalization()(l)\n",
        "l = layers.Dense(30, activation=\"relu\", name=\"Hidden2\")(l)\n",
        "#l = layers.BatchNormalization()(l)\n",
        "\n",
        "l = layers.concatenate([l, inputA])\n",
        "\n",
        "output = layers.Dense(1, activation='linear', name=\"Output\")(l)\n",
        "\n",
        "model2 = keras.Model(\n",
        "    inputs=[inputA, inputB],\n",
        "    outputs=output,\n",
        ")"
      ],
      "metadata": {
        "id": "mjJLEFPrRTdV"
      },
      "execution_count": null,
      "outputs": []
    },
    {
      "cell_type": "code",
      "source": [
        "keras.utils.plot_model(model2)"
      ],
      "metadata": {
        "colab": {
          "base_uri": "https://localhost:8080/",
          "height": 466
        },
        "id": "Mr28rW5LRowb",
        "outputId": "8e9bb66a-e00e-4deb-edf4-58493eb4c922"
      },
      "execution_count": null,
      "outputs": [
        {
          "output_type": "execute_result",
          "data": {
            "image/png": "[encoded data removed]",
            "text/plain": [
              "<IPython.core.display.Image object>"
            ]
          },
          "metadata": {},
          "execution_count": 13
        }
      ]
    },
    {
      "cell_type": "code",
      "source": [
        "model2.compile(optimizer=\"adam\",\n",
        "          loss=\"mse\",\n",
        "          metrics=[tf.keras.metrics.RootMeanSquaredError()])\n",
        "\n",
        "history2 = model2.fit(\n",
        "    {\"InputA\": x_train[:,0:5], \"InputB\": x_train[:,2:8]},\n",
        "    y_train, epochs=20, validation_split=0.1)"
      ],
      "metadata": {
        "colab": {
          "base_uri": "https://localhost:8080/"
        },
        "id": "fYSw_IxkT9s0",
        "outputId": "974c56b1-94e3-4266-8f50-804e1de9cc52"
      },
      "execution_count": null,
      "outputs": [
        {
          "output_type": "stream",
          "name": "stdout",
          "text": [
            "Epoch 1/20\n",
            "407/407 [==============================] - 2s 3ms/step - loss: 1.6741 - root_mean_squared_error: 1.2939 - val_loss: 0.6621 - val_root_mean_squared_error: 0.8137\n",
            "Epoch 2/20\n",
            "407/407 [==============================] - 1s 3ms/step - loss: 0.5162 - root_mean_squared_error: 0.7184 - val_loss: 0.4395 - val_root_mean_squared_error: 0.6629\n",
            "Epoch 3/20\n",
            "407/407 [==============================] - 1s 3ms/step - loss: 0.4274 - root_mean_squared_error: 0.6537 - val_loss: 0.3922 - val_root_mean_squared_error: 0.6263\n",
            "Epoch 4/20\n",
            "407/407 [==============================] - 1s 3ms/step - loss: 0.4007 - root_mean_squared_error: 0.6330 - val_loss: 0.3753 - val_root_mean_squared_error: 0.6126\n",
            "Epoch 5/20\n",
            "407/407 [==============================] - 1s 3ms/step - loss: 0.3846 - root_mean_squared_error: 0.6202 - val_loss: 0.3626 - val_root_mean_squared_error: 0.6021\n",
            "Epoch 6/20\n",
            "407/407 [==============================] - 1s 3ms/step - loss: 0.3747 - root_mean_squared_error: 0.6121 - val_loss: 0.3575 - val_root_mean_squared_error: 0.5979\n",
            "Epoch 7/20\n",
            "407/407 [==============================] - 1s 3ms/step - loss: 0.3703 - root_mean_squared_error: 0.6085 - val_loss: 0.3493 - val_root_mean_squared_error: 0.5910\n",
            "Epoch 8/20\n",
            "407/407 [==============================] - 1s 3ms/step - loss: 0.3737 - root_mean_squared_error: 0.6113 - val_loss: 0.3388 - val_root_mean_squared_error: 0.5821\n",
            "Epoch 9/20\n",
            "407/407 [==============================] - 1s 3ms/step - loss: 0.3569 - root_mean_squared_error: 0.5974 - val_loss: 0.3316 - val_root_mean_squared_error: 0.5759\n",
            "Epoch 10/20\n",
            "407/407 [==============================] - 1s 3ms/step - loss: 0.3501 - root_mean_squared_error: 0.5917 - val_loss: 0.3236 - val_root_mean_squared_error: 0.5688\n",
            "Epoch 11/20\n",
            "407/407 [==============================] - 1s 3ms/step - loss: 0.3608 - root_mean_squared_error: 0.6007 - val_loss: 0.3203 - val_root_mean_squared_error: 0.5659\n",
            "Epoch 12/20\n",
            "407/407 [==============================] - 1s 3ms/step - loss: 0.3503 - root_mean_squared_error: 0.5918 - val_loss: 0.3189 - val_root_mean_squared_error: 0.5647\n",
            "Epoch 13/20\n",
            "407/407 [==============================] - 1s 3ms/step - loss: 0.3391 - root_mean_squared_error: 0.5823 - val_loss: 0.3192 - val_root_mean_squared_error: 0.5650\n",
            "Epoch 14/20\n",
            "407/407 [==============================] - 1s 3ms/step - loss: 0.3378 - root_mean_squared_error: 0.5812 - val_loss: 0.3171 - val_root_mean_squared_error: 0.5631\n",
            "Epoch 15/20\n",
            "407/407 [==============================] - 1s 3ms/step - loss: 0.3435 - root_mean_squared_error: 0.5861 - val_loss: 0.3125 - val_root_mean_squared_error: 0.5590\n",
            "Epoch 16/20\n",
            "407/407 [==============================] - 1s 3ms/step - loss: 0.3420 - root_mean_squared_error: 0.5848 - val_loss: 0.3197 - val_root_mean_squared_error: 0.5654\n",
            "Epoch 17/20\n",
            "407/407 [==============================] - 1s 3ms/step - loss: 0.3354 - root_mean_squared_error: 0.5791 - val_loss: 0.3104 - val_root_mean_squared_error: 0.5571\n",
            "Epoch 18/20\n",
            "407/407 [==============================] - 1s 3ms/step - loss: 0.3422 - root_mean_squared_error: 0.5850 - val_loss: 0.3178 - val_root_mean_squared_error: 0.5638\n",
            "Epoch 19/20\n",
            "407/407 [==============================] - 1s 3ms/step - loss: 0.3340 - root_mean_squared_error: 0.5779 - val_loss: 0.3116 - val_root_mean_squared_error: 0.5582\n",
            "Epoch 20/20\n",
            "407/407 [==============================] - 1s 3ms/step - loss: 0.3361 - root_mean_squared_error: 0.5797 - val_loss: 0.3098 - val_root_mean_squared_error: 0.5566\n"
          ]
        }
      ]
    },
    {
      "cell_type": "code",
      "source": [
        "test_loss2, test_acc2 = model2.evaluate({\"InputA\": x_test[:,0:5], \"InputB\": x_test[:,2:8]}, y_test)"
      ],
      "metadata": {
        "colab": {
          "base_uri": "https://localhost:8080/"
        },
        "id": "seoJ1o_DUy50",
        "outputId": "23f748b8-6e58-4747-8533-5c756433df96"
      },
      "execution_count": null,
      "outputs": [
        {
          "output_type": "stream",
          "name": "stdout",
          "text": [
            "194/194 [==============================] - 0s 2ms/step - loss: 0.3390 - root_mean_squared_error: 0.5822\n"
          ]
        }
      ]
    },
    {
      "cell_type": "markdown",
      "source": [
        "RMSE score below 0.5 is considered to be good. Here, as the RMSE is only slightly above 0.5, the model has decent accuracy."
      ],
      "metadata": {
        "id": "h5x9LNnjY_Sz"
      }
    },
    {
      "cell_type": "markdown",
      "source": [
        "# Performance Comparison"
      ],
      "metadata": {
        "id": "PWNTWwtFXrI7"
      }
    },
    {
      "cell_type": "code",
      "source": [
        "acc1 = history1.history['root_mean_squared_error']\n",
        "val_acc1 = history1.history['val_root_mean_squared_error']\n",
        "loss1 = history1.history['loss']\n",
        "val_loss1 = history1.history['val_loss']\n",
        "\n",
        "ep1 = np.arange(1,21)\n",
        "\n",
        "plt.title(\"MODEL 1: Loss vs Validation Loss\")\n",
        "sns.lineplot(x=ep1,y = loss1)\n",
        "sns.lineplot(x=ep1,y = val_loss1)\n",
        "plt.xlabel(\"Epochs\")\n",
        "plt.ylabel(\"MSE Loss\")\n",
        "plt.legend([\"Loss\", \"Validation Loss\"])\n",
        "plt.show()\n",
        "\n",
        "acc2 = history2.history['root_mean_squared_error']\n",
        "val_acc2 = history2.history['val_root_mean_squared_error']\n",
        "loss2 = history2.history['loss']\n",
        "val_loss2 = history2.history['val_loss']\n",
        "\n",
        "ep2 = np.arange(1,21)\n",
        "\n",
        "plt.title(\"MODEL 2: Loss vs Validation Loss\")\n",
        "sns.lineplot(x=ep2,y = loss2)\n",
        "sns.lineplot(x=ep2,y = val_loss2)\n",
        "plt.xlabel(\"Epochs\")\n",
        "plt.ylabel(\"MSE Loss\")\n",
        "plt.legend([\"Loss\", \"Validation Loss\"])\n",
        "plt.show()"
      ],
      "metadata": {
        "colab": {
          "base_uri": "https://localhost:8080/",
          "height": 573
        },
        "id": "hzSebXzuQgpk",
        "outputId": "c0048b7f-9cf6-4ec2-ed63-9eb5275dc6ed"
      },
      "execution_count": null,
      "outputs": [
        {
          "output_type": "display_data",
          "data": {
            "text/plain": [
              "<Figure size 432x288 with 1 Axes>"
            ],
            "image/png": "[encoded data removed]"
          },
          "metadata": {
            "needs_background": "light"
          }
        },
        {
          "output_type": "display_data",
          "data": {
            "text/plain": [
              "<Figure size 432x288 with 1 Axes>"
            ],
            "image/png": "[encoded data removed]"
          },
          "metadata": {
            "needs_background": "light"
          }
        }
      ]
    },
    {
      "cell_type": "markdown",
      "source": [
        "**Both models perform very similarly as both have test rmse score around 0.57 - 0.59.**\n",
        "<br>\n",
        "The graph for MSE Loss for 20 epochs is also very similar for both models"
      ],
      "metadata": {
        "id": "wN_HltliYJrT"
      }
    }
  ]
}