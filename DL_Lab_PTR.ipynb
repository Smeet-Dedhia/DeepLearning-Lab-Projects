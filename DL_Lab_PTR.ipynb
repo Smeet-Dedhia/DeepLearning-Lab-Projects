{
  "nbformat": 4,
  "nbformat_minor": 0,
  "metadata": {
    "colab": {
      "provenance": [],
      "collapsed_sections": []
    },
    "kernelspec": {
      "name": "python3",
      "display_name": "Python 3"
    },
    "language_info": {
      "name": "python"
    }
  },
  "cells": [
    {
      "cell_type": "markdown",
      "source": [
        "# RNN"
      ],
      "metadata": {
        "id": "LiW3GB_r8YEb"
      }
    },
    {
      "cell_type": "code",
      "execution_count": null,
      "metadata": {
        "id": "TdXXqEUT8VXr"
      },
      "outputs": [],
      "source": [
        "\n",
        "##### Step 0 - We will use this function in step 3 to get the data into the right shape\n",
        "def prep_data(datain, time_step):\n",
        "    # 1. y-array  \n",
        "    # First, create an array with indices for y elements based on the chosen time_step\n",
        "    y_indices = np.arange(start=time_step, stop=len(datain), step=time_step)\n",
        "    # Create y array based on the above indices \n",
        "    y_tmp = datain[y_indices]\n",
        "    \n",
        "    # 2. X-array  \n",
        "    # We want to have the same number of rows for X as we do for y\n",
        "    rows_X = len(y_tmp)\n",
        "    # Since the last element in y_tmp may not be the last element of the datain, \n",
        "    # let's ensure that X array stops with the last y\n",
        "    X_tmp = datain[range(time_step*rows_X)]\n",
        "    # Now take this array and reshape it into the desired shape\n",
        "    X_tmp = np.reshape(X_tmp, (rows_X, time_step, 1))\n",
        "    return X_tmp, y_tmp"
      ]
    },
    {
      "cell_type": "code",
      "source": [
        "def train_val_split(time, series, time_step=G.SPLIT_TIME):\n",
        "\t\"\"\"Divide the time series into training and validation set\"\"\"\n",
        "\ttime_train = time[:time_step]\n",
        "\tseries_train = series[:time_step]\n",
        "\ttime_valid = time[time_step:]\n",
        "\tseries_valid = series[time_step:]\n",
        "\n",
        "\treturn time_train, series_train, time_valid, series_valid\n",
        "\n",
        "def windowed_dataset(series, window_size=G.WINDOW_SIZE, batch_size=G.BATCH_SIZE, shuffle_buffer=G.SHUFFLE_BUFFER_SIZE):\n",
        "\t\"\"\"\n",
        "\tWe create time windows to create X and y features.\n",
        "\tFor example, if we choose a window of 30, we will create a dataset formed by 30 points as X\n",
        "\t\"\"\"\n",
        "\tdataset = tf.data.Dataset.from_tensor_slices(series)\n",
        "\tdataset = dataset.window(window_size + 1, shift=1, drop_remainder=True)\n",
        "\tdataset = dataset.flat_map(lambda window: window.batch(window_size + 1))\n",
        "\tdataset = dataset.shuffle(shuffle_buffer)\n",
        "\tdataset = dataset.map(lambda window: (window[:-1], window[-1]))\n",
        "\tdataset = dataset.batch(batch_size).prefetch(1)\n",
        "\treturn dataset"
      ],
      "metadata": {
        "id": "Y-pQqqSvEZzn"
      },
      "execution_count": null,
      "outputs": []
    }
  ]
}